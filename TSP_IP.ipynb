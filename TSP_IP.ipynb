{
 "cells": [
  {
   "cell_type": "code",
   "execution_count": 1,
   "metadata": {},
   "outputs": [],
   "source": [
    "import vrpSolver"
   ]
  },
  {
   "cell_type": "code",
   "execution_count": 2,
   "metadata": {},
   "outputs": [
    {
     "data": {
      "image/png": "[encoded data removed]",
      "text/plain": [
       "<Figure size 360x360 with 1 Axes>"
      ]
     },
     "metadata": {
      "needs_background": "light"
     },
     "output_type": "display_data"
    }
   ],
   "source": [
    "# Generate instance\n",
    "nodes = vrpSolver.rndPlainNodes(N = 10)\n",
    "fig, ax = vrpSolver.plotNodes(\n",
    "    nodes = nodes)"
   ]
  },
  {
   "cell_type": "code",
   "execution_count": 3,
   "metadata": {},
   "outputs": [
    {
     "name": "stdout",
     "output_type": "stream",
     "text": [
      "Academic license - for non-commercial use only\n",
      "{'ofv': 291.9859872838885, 'seq': [0, 4, 3, 8, 6, 2, 5, 1, 9, 7, 0], 'gap': 0, 'lowerBound': 291.9859872838885, 'upperBound': 291.9859872838885, 'runtime': 0.0029964447021484375, 'fml': 'DFJ_Lazy'}\n"
     ]
    }
   ],
   "source": [
    "# DFJ with lazy cut\n",
    "DFJ_Lazy = vrpSolver.ipTSP(\n",
    "    nodes = nodes, \n",
    "    fml = \"DFJ_Lazy\")\n",
    "print(DFJ_Lazy)"
   ]
  },
  {
   "cell_type": "code",
   "execution_count": 4,
   "metadata": {},
   "outputs": [
    {
     "data": {
      "image/png": "[encoded data removed]",
      "text/plain": [
       "<Figure size 360x360 with 1 Axes>"
      ]
     },
     "execution_count": 4,
     "metadata": {},
     "output_type": "execute_result"
    }
   ],
   "source": [
    "# Plot the result of TSP\n",
    "vrpSolver.plotSeq(\n",
    "    fig = fig,\n",
    "    ax = ax,\n",
    "    nodes=nodes, \n",
    "    seq=DFJ_Lazy['seq'])\n",
    "fig"
   ]
  },
  {
   "cell_type": "code",
   "execution_count": 5,
   "metadata": {},
   "outputs": [
    {
     "name": "stdout",
     "output_type": "stream",
     "text": [
      "{'ofv': 291.9859872838885, 'seq': [0, 4, 3, 8, 6, 2, 5, 1, 9, 7, 0], 'gap': 0, 'lowerBound': 291.9859872838885, 'upperBound': 291.9859872838885, 'runtime': 0.0030422210693359375, 'fml': 'DFJ_PlainLoop'}\n"
     ]
    }
   ],
   "source": [
    "# DFJ with plain loop\n",
    "DFJ_PlainLoop = vrpSolver.ipTSP(\n",
    "    nodes = nodes, \n",
    "    fml = \"DFJ_PlainLoop\")\n",
    "print(DFJ_PlainLoop)"
   ]
  },
  {
   "cell_type": "code",
   "execution_count": 6,
   "metadata": {},
   "outputs": [
    {
     "name": "stdout",
     "output_type": "stream",
     "text": [
      "{'ofv': 291.9859872838885, 'seq': [0, 7, 9, 1, 5, 2, 6, 8, 3, 4, 0], 'gap': 0, 'lowerBound': 291.9859872838885, 'upperBound': 291.9859872838885, 'runtime': 0.05800056457519531, 'fml': 'MTZ'}\n"
     ]
    }
   ],
   "source": [
    "# MTZ\n",
    "MTZ = vrpSolver.ipTSP(\n",
    "    nodes = nodes, \n",
    "    fml = \"MTZ\")\n",
    "print(MTZ)"
   ]
  },
  {
   "cell_type": "code",
   "execution_count": 7,
   "metadata": {},
   "outputs": [
    {
     "name": "stdout",
     "output_type": "stream",
     "text": [
      "{'ofv': 291.9859872838885, 'seq': [0, 4, 3, 8, 6, 2, 5, 1, 9, 7, 0], 'gap': 0, 'lowerBound': 291.9859872838885, 'upperBound': 291.9859872838885, 'runtime': 0.013010025024414062, 'fml': 'MultiCommodityFlow'}\n"
     ]
    }
   ],
   "source": [
    "# MultiCommodityFlow\n",
    "MultiCommodityFlow = vrpSolver.ipTSP(\n",
    "    nodes = nodes, \n",
    "    fml = \"MultiCommodityFlow\")\n",
    "print(MultiCommodityFlow)"
   ]
  },
  {
   "cell_type": "code",
   "execution_count": 8,
   "metadata": {},
   "outputs": [
    {
     "name": "stdout",
     "output_type": "stream",
     "text": [
      "{'ofv': 291.9859872838885, 'seq': [0, 4, 3, 8, 6, 2, 5, 1, 9, 7, 0], 'gap': 0, 'lowerBound': 291.9859872838885, 'upperBound': 291.9859872838885, 'runtime': 0.03700065612792969, 'fml': 'ShortestPath'}\n"
     ]
    }
   ],
   "source": [
    "# ShortestPath\n",
    "ShortestPath = vrpSolver.ipTSP(\n",
    "    nodes = nodes, \n",
    "    fml = \"ShortestPath\")\n",
    "print(ShortestPath)"
   ]
  },
  {
   "cell_type": "code",
   "execution_count": 9,
   "metadata": {},
   "outputs": [
    {
     "name": "stdout",
     "output_type": "stream",
     "text": [
      "{'ofv': 291.9859872838885, 'seq': [8, 3, 4, 0, 7, 9, 1, 5, 2, 6, 8], 'gap': 0, 'lowerBound': 291.9859872838885, 'upperBound': 291.9859872838885, 'runtime': 2.5123939514160156, 'fml': 'QAP'}\n"
     ]
    }
   ],
   "source": [
    "# QAP\n",
    "QAP = vrpSolver.ipTSP(\n",
    "    nodes = nodes, \n",
    "    fml = \"QAP\")\n",
    "print(QAP)"
   ]
  },
  {
   "cell_type": "code",
   "execution_count": null,
   "metadata": {},
   "outputs": [],
   "source": []
  }
 ],
 "metadata": {
  "kernelspec": {
   "display_name": "Python 3",
   "language": "python",
   "name": "python3"
  },
  "language_info": {
   "codemirror_mode": {
    "name": "ipython",
    "version": 3
   },
   "file_extension": ".py",
   "mimetype": "text/x-python",
   "name": "python",
   "nbconvert_exporter": "python",
   "pygments_lexer": "ipython3",
   "version": "3.7.2"
  }
 },
 "nbformat": 4,
 "nbformat_minor": 2
}
