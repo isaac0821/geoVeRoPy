{
 "cells": [
  {
   "cell_type": "code",
   "execution_count": 1,
   "id": "5eb441ba",
   "metadata": {},
   "outputs": [],
   "source": [
    "import os,sys,inspect\n",
    "currentdir = os.getcwd()\n",
    "parentdir = os.path.dirname(currentdir)\n",
    "sys.path.insert(0,parentdir)\n",
    "import random\n",
    "\n",
    "import vrpSolver\n",
    "# %matplotlib notebook"
   ]
  },
  {
   "cell_type": "code",
   "execution_count": 2,
   "id": "bd96a3df",
   "metadata": {},
   "outputs": [
    {
     "data": {
      "image/png": "[encoded data removed]",
      "text/plain": [
       "<Figure size 500x500 with 1 Axes>"
      ]
     },
     "metadata": {},
     "output_type": "display_data"
    }
   ],
   "source": [
    "# Generate and plot instance\n",
    "nodes = vrpSolver.rndNodes(\n",
    "    N = 20,\n",
    "    distr = 'UniformSquareXY',\n",
    "    xRange = (0, 100),\n",
    "    yRange = (0, 100)\n",
    ")\n",
    "fig, ax = vrpSolver.plotNodes(\n",
    "    nodes = nodes, \n",
    "    boundingBox = (-20, 120, -20, 120)\n",
    ")"
   ]
  },
  {
   "cell_type": "code",
   "execution_count": 3,
   "id": "8f55cbf3",
   "metadata": {},
   "outputs": [],
   "source": [
    "for n in nodes:\n",
    "    nodes[n]['price'] = 100 * random.random()"
   ]
  },
  {
   "cell_type": "code",
   "execution_count": 4,
   "id": "a8e93172",
   "metadata": {},
   "outputs": [],
   "source": [
    "# DFJ with lazy cut\n",
    "DFJ_Lazy = vrpSolver.solveTSP(\n",
    "    nodes = nodes, \n",
    "    edges = 'Euclidean',\n",
    "    algo = 'IP',\n",
    "    fml = 'DFJ_Lazy',\n",
    "    solver = 'Gurobi',\n",
    "    detailsFlag = False,\n",
    "    outputFlag = False)"
   ]
  },
  {
   "cell_type": "code",
   "execution_count": 5,
   "id": "e4a8e5e9",
   "metadata": {},
   "outputs": [
    {
     "data": {
      "text/plain": [
       "{'ofv': 343.58424302639094,\n",
       " 'seq': [0,\n",
       "  17,\n",
       "  2,\n",
       "  19,\n",
       "  12,\n",
       "  11,\n",
       "  8,\n",
       "  9,\n",
       "  3,\n",
       "  6,\n",
       "  15,\n",
       "  5,\n",
       "  14,\n",
       "  10,\n",
       "  13,\n",
       "  16,\n",
       "  4,\n",
       "  1,\n",
       "  7,\n",
       "  18,\n",
       "  0],\n",
       " 'gap': 0,\n",
       " 'solType': 'IP_Optimal',\n",
       " 'lowerBound': 343.58424302639094,\n",
       " 'upperBound': 343.58424302639094,\n",
       " 'runtime': 0.0064029693603515625}"
      ]
     },
     "execution_count": 5,
     "metadata": {},
     "output_type": "execute_result"
    }
   ],
   "source": [
    "DFJ_Lazy"
   ]
  },
  {
   "cell_type": "code",
   "execution_count": 6,
   "id": "613b2d91",
   "metadata": {},
   "outputs": [],
   "source": [
    "tau, _ = vrpSolver.matrixDist(\n",
    "    nodes = nodes,\n",
    "    edges = 'Euclidean')"
   ]
  },
  {
   "cell_type": "code",
   "execution_count": 7,
   "id": "2e679c0e",
   "metadata": {},
   "outputs": [
    {
     "data": {
      "text/plain": [
       "39.229647463026524"
      ]
     },
     "execution_count": 7,
     "metadata": {},
     "output_type": "execute_result"
    }
   ],
   "source": [
    "tau[4, 2]"
   ]
  },
  {
   "cell_type": "code",
   "execution_count": 8,
   "id": "1bd2e963",
   "metadata": {},
   "outputs": [
    {
     "name": "stdout",
     "output_type": "stream",
     "text": [
      "Gurobi Optimizer version 9.5.0 build v9.5.0rc5 (win64)\n",
      "Thread count: 6 physical cores, 12 logical processors, using up to 12 threads\n",
      "Optimize a model with 460 rows, 400 columns and 2643 nonzeros\n",
      "Model fingerprint: 0xf4eeb002\n",
      "Variable types: 20 continuous, 380 integer (380 binary)\n",
      "Coefficient statistics:\n",
      "  Matrix range     [1e+00, 1e+02]\n",
      "  Objective range  [2e+01, 1e+02]\n",
      "  Bounds range     [1e+00, 1e+00]\n",
      "  RHS range        [1e+00, 2e+02]\n",
      "Found heuristic solution: objective 59.2594475\n",
      "Presolve removed 40 rows and 0 columns\n",
      "Presolve time: 0.01s\n",
      "Presolved: 420 rows, 400 columns, 2588 nonzeros\n",
      "Variable types: 20 continuous, 380 integer (380 binary)\n",
      "\n",
      "Root relaxation: objective 9.095648e+02, 154 iterations, 0.00 seconds (0.00 work units)\n",
      "\n",
      "    Nodes    |    Current Node    |     Objective Bounds      |     Work\n",
      " Expl Unexpl |  Obj  Depth IntInf | Incumbent    BestBd   Gap | It/Node Time\n",
      "\n",
      "     0     0  909.56482    0   33   59.25945  909.56482  1435%     -    0s\n",
      "H    0     0                     190.6985366  909.56482   377%     -    0s\n",
      "H    0     0                     191.5545764  909.56482   375%     -    0s\n",
      "H    0     0                     304.8825468  902.34673   196%     -    0s\n",
      "H    0     0                     422.9704861  863.40034   104%     -    0s\n",
      "     0     0  863.40034    0   32  422.97049  863.40034   104%     -    0s\n",
      "H    0     0                     452.7306292  863.40034  90.7%     -    0s\n",
      "     0     0  854.11695    0   32  452.73063  854.11695  88.7%     -    0s\n",
      "     0     0  854.11695    0   32  452.73063  854.11695  88.7%     -    0s\n",
      "H    0     0                     487.0231845  848.12852  74.1%     -    0s\n",
      "     0     0  848.12852    0   31  487.02318  848.12852  74.1%     -    0s\n",
      "H    0     0                     526.3560263  848.12852  61.1%     -    0s\n",
      "     0     0  848.12852    0   31  526.35603  848.12852  61.1%     -    0s\n",
      "     0     0  848.12852    0   31  526.35603  848.12852  61.1%     -    0s\n",
      "     0     0  848.12852    0   31  526.35603  848.12852  61.1%     -    0s\n",
      "H    0     0                     568.4820103  848.12852  49.2%     -    0s\n",
      "     0     0  848.12852    0   31  568.48201  848.12852  49.2%     -    0s\n",
      "     0     0  848.12852    0   31  568.48201  848.12852  49.2%     -    0s\n",
      "H    0     0                     598.9364838  848.12852  41.6%     -    0s\n",
      "     0     2  830.64526    0   31  598.93648  830.64526  38.7%     -    0s\n",
      "H   33    33                     614.4496389  830.64526  35.2%  11.4    0s\n",
      "H  164    58                     640.4047677  829.50192  29.5%  10.8    0s\n",
      "H 1197   409                     664.5514376  705.09578  6.10%   8.9    0s\n",
      "* 2066   511              31     672.9318590  697.00551  3.58%   8.8    0s\n",
      "* 3054   536              33     673.8863572  690.52005  2.47%   8.7    0s\n",
      "\n",
      "Cutting planes:\n",
      "  Learned: 11\n",
      "  Gomory: 4\n",
      "  Cover: 6\n",
      "  Implied bound: 66\n",
      "  MIR: 28\n",
      "  Inf proof: 5\n",
      "  RLT: 37\n",
      "  Relax-and-lift: 18\n",
      "  BQP: 2\n",
      "  PSD: 11\n",
      "\n",
      "Explored 4686 nodes (40251 simplex iterations) in 1.15 seconds (0.67 work units)\n",
      "Thread count was 12 (of 12 available processors)\n",
      "\n",
      "Solution count 10: 673.886 672.932 664.551 ... 452.731\n",
      "\n",
      "Optimal solution found (tolerance 1.00e-04)\n",
      "Best objective 6.738863572422e+02, best bound 6.738863572422e+02, gap 0.0000%\n"
     ]
    }
   ],
   "source": [
    "OP = vrpSolver.solveOP(\n",
    "    nodes = nodes,\n",
    "    startID = 4,\n",
    "    endID = 2,\n",
    "    maxBudget = 200,\n",
    "    algo = \"IP\",\n",
    "    solver = \"Gurobi\",\n",
    "    fml = 'MTZ'\n",
    ")"
   ]
  },
  {
   "cell_type": "code",
   "execution_count": 9,
   "id": "11d37d9b",
   "metadata": {},
   "outputs": [
    {
     "data": {
      "text/plain": [
       "{'ofv': 673.886357242218,\n",
       " 'dist': 198.0941835993842,\n",
       " 'seq': [4, 16, 13, 10, 14, 5, 15, 6, 7, 1, 18, 0, 17, 2],\n",
       " 'gap': 0,\n",
       " 'solType': 'IP_Optimal',\n",
       " 'lowerBound': 673.886357242218,\n",
       " 'upperBound': 673.886357242218,\n",
       " 'runtime': 1.1573257446289062}"
      ]
     },
     "execution_count": 9,
     "metadata": {},
     "output_type": "execute_result"
    }
   ],
   "source": [
    "OP"
   ]
  },
  {
   "cell_type": "code",
   "execution_count": 10,
   "id": "d17d7919",
   "metadata": {},
   "outputs": [],
   "source": [
    "fig, ax = vrpSolver.plotNodeSeq(\n",
    "    fig = fig,\n",
    "    ax = ax,\n",
    "    nodes = nodes,\n",
    "    nodeSeq = OP['seq'])"
   ]
  },
  {
   "cell_type": "code",
   "execution_count": 11,
   "id": "e218c67e",
   "metadata": {},
   "outputs": [
    {
     "data": {
      "image/png": "[encoded data removed]",
      "text/plain": [
       "<Figure size 500x500 with 1 Axes>"
      ]
     },
     "execution_count": 11,
     "metadata": {},
     "output_type": "execute_result"
    }
   ],
   "source": [
    "fig"
   ]
  },
  {
   "cell_type": "code",
   "execution_count": 12,
   "id": "110aa176",
   "metadata": {},
   "outputs": [
    {
     "name": "stdout",
     "output_type": "stream",
     "text": [
      "Set parameter LazyConstraints to value 1\n",
      "Gurobi Optimizer version 9.5.0 build v9.5.0rc5 (win64)\n",
      "Thread count: 6 physical cores, 12 logical processors, using up to 12 threads\n",
      "Optimize a model with 40 rows, 380 columns and 1463 nonzeros\n",
      "Model fingerprint: 0x89a3c2b3\n",
      "Variable types: 0 continuous, 380 integer (380 binary)\n",
      "Coefficient statistics:\n",
      "  Matrix range     [1e+00, 1e+02]\n",
      "  Objective range  [2e+01, 1e+02]\n",
      "  Bounds range     [1e+00, 1e+00]\n",
      "  RHS range        [1e+00, 2e+02]\n",
      "Found heuristic solution: objective 100.7362387\n",
      "Presolve time: 0.00s\n",
      "Presolved: 40 rows, 380 columns, 1448 nonzeros\n",
      "Variable types: 0 continuous, 380 integer (380 binary)\n",
      "\n",
      "Root relaxation: objective 9.063896e+02, 75 iterations, 0.00 seconds (0.00 work units)\n",
      "\n",
      "    Nodes    |    Current Node    |     Objective Bounds      |     Work\n",
      " Expl Unexpl |  Obj  Depth IntInf | Incumbent    BestBd   Gap | It/Node Time\n",
      "\n",
      "     0     0  906.38958    0    6  100.73624  906.38958   800%     -    0s\n",
      "H    0     0                     340.4103743  906.38958   166%     -    0s\n",
      "     0     0  861.96388    0   25  340.41037  861.96388   153%     -    0s\n",
      "     0     0  851.32197    0   23  340.41037  851.32197   150%     -    0s\n",
      "     0     0  851.32197    0   23  340.41037  851.32197   150%     -    0s\n",
      "     0     2  851.32197    0   23  340.41037  851.32197   150%     -    0s\n",
      "H   95    67                     551.2216795  811.47334  47.2%   9.5    0s\n",
      "H  156    76                     570.6703570  787.66418  38.0%   8.0    0s\n",
      "*  194   110              13     577.2744836  787.44370  36.4%   7.6    0s\n",
      "H  246   119                     580.8143860  787.44370  35.6%   7.0    0s\n",
      "H  520   195                     655.1069570  769.98389  17.5%   7.0    0s\n",
      "H 1150   401                     672.9318590  730.39771  8.54%   6.7    0s\n",
      "H 2200   275                     673.8863572  709.60054  5.30%   6.8    0s\n",
      "H 2586    63                     674.7058304  692.73900  2.67%   6.8    0s\n",
      "\n",
      "Cutting planes:\n",
      "  Gomory: 5\n",
      "  Cover: 5\n",
      "  MIR: 2\n",
      "  Inf proof: 18\n",
      "  Lazy constraints: 63\n",
      "\n",
      "Explored 2797 nodes (19012 simplex iterations) in 0.55 seconds (0.21 work units)\n",
      "Thread count was 12 (of 12 available processors)\n",
      "\n",
      "Solution count 10: 674.706 673.886 672.932 ... 100.736\n",
      "\n",
      "Optimal solution found (tolerance 1.00e-04)\n",
      "Best objective 6.747058303685e+02, best bound 6.747058303685e+02, gap 0.0000%\n",
      "\n",
      "User-callback calls 5940, time in user-callback 0.04 sec\n"
     ]
    }
   ],
   "source": [
    "OP = vrpSolver.solveOP(\n",
    "    nodes = nodes,\n",
    "    startID = 4,\n",
    "    endID = 2,\n",
    "    maxBudget = 200,\n",
    "    algo = \"IP\",\n",
    "    solver = \"Gurobi\",\n",
    "    fml = 'DFJ_Lazy'\n",
    ")"
   ]
  },
  {
   "cell_type": "code",
   "execution_count": 13,
   "id": "203c1502",
   "metadata": {},
   "outputs": [
    {
     "data": {
      "text/plain": [
       "{'ofv': 674.7058303685313,\n",
       " 'dist': 197.382729052369,\n",
       " 'seq': [4, 16, 14, 10, 13, 7, 12, 2, 17, 0, 18, 1, 4],\n",
       " 'gap': 0,\n",
       " 'solType': 'IP_Optimal',\n",
       " 'lowerBound': 674.7058303685313,\n",
       " 'upperBound': 674.7058303685313,\n",
       " 'runtime': 0.5614700317382812}"
      ]
     },
     "execution_count": 13,
     "metadata": {},
     "output_type": "execute_result"
    }
   ],
   "source": [
    "OP"
   ]
  },
  {
   "cell_type": "code",
   "execution_count": 14,
   "id": "13fe3643",
   "metadata": {},
   "outputs": [
    {
     "data": {
      "image/png": "[encoded data removed]",
      "text/plain": [
       "<Figure size 500x500 with 1 Axes>"
      ]
     },
     "execution_count": 14,
     "metadata": {},
     "output_type": "execute_result"
    }
   ],
   "source": [
    "fig, ax = vrpSolver.plotNodeSeq(\n",
    "    fig = fig,\n",
    "    ax = ax,\n",
    "    nodes = nodes,\n",
    "    nodeSeq = OP['seq'],\n",
    "    lineColor = 'red')\n",
    "fig"
   ]
  },
  {
   "cell_type": "code",
   "execution_count": null,
   "id": "ec1d3a9a",
   "metadata": {},
   "outputs": [
    {
     "name": "stdout",
     "output_type": "stream",
     "text": [
      "---------------------------------- ID: 0 ----------------------------------\n",
      "ofv 398.4750158203001 dist:  187.27808801909802\n",
      "[1, 5, 17, 11, 10, 6, 19, 4, 2]\n",
      "runtime:  3.5383167266845703\n",
      "ofv 398.4750158203001 dist:  196.254596395985\n",
      "[1, 11, 17, 5, 10, 4, 19, 6, 2]\n",
      "runtime:  1.4577808380126953\n",
      "\n",
      "\n",
      "---------------------------------- ID: 1 ----------------------------------\n",
      "ofv 737.9112667504037 dist:  197.57315607541932\n",
      "[1, 19, 3, 0, 16, 9, 5, 13, 8, 4, 18, 14, 15, 2]\n",
      "runtime:  0.2806739807128906\n",
      "ofv 737.9112667504037 dist:  198.3458068123025\n",
      "[1, 19, 3, 0, 16, 9, 5, 13, 8, 4, 18, 15, 14, 2]\n",
      "runtime:  0.20920944213867188\n",
      "\n",
      "\n",
      "---------------------------------- ID: 2 ----------------------------------\n",
      "ofv 716.4748556842195 dist:  196.04948464710074\n",
      "[1, 15, 10, 6, 3, 9, 0, 16, 8, 4, 19, 12, 17, 2]\n",
      "runtime:  6.994533538818359\n",
      "ofv 716.4748556842195 dist:  199.66018838955438\n",
      "[1, 15, 10, 6, 3, 9, 0, 16, 8, 4, 12, 19, 17, 2]\n",
      "runtime:  3.267946243286133\n",
      "\n",
      "\n",
      "---------------------------------- ID: 3 ----------------------------------\n",
      "ofv 535.5602164769268 dist:  199.9538702457208\n",
      "[1, 17, 19, 4, 9, 5, 10, 6, 2]\n",
      "runtime:  1.277679443359375\n",
      "ofv 535.5602164769268 dist:  199.9538702457208\n",
      "[1, 17, 19, 4, 9, 5, 10, 6, 2]\n",
      "runtime:  0.62481689453125\n",
      "\n",
      "\n",
      "---------------------------------- ID: 4 ----------------------------------\n",
      "ofv 824.2916130888839 dist:  199.42419045865242\n",
      "[1, 15, 18, 13, 12, 6, 17, 7, 9, 11, 19, 16, 5, 2]\n",
      "runtime:  0.7720832824707031\n",
      "ofv 824.2916130888839 dist:  199.42419045865242\n",
      "[1, 15, 18, 13, 12, 6, 17, 7, 9, 11, 19, 16, 5, 2]\n",
      "runtime:  0.16274070739746094\n",
      "\n",
      "\n",
      "---------------------------------- ID: 5 ----------------------------------\n",
      "ofv 526.7795262738775 dist:  196.90646181707\n",
      "[1, 5, 3, 9, 17, 16, 13, 18, 0, 19, 10, 2]\n",
      "runtime:  1.9774417877197266\n",
      "ofv 526.7795262738775 dist:  196.90646181707\n",
      "[1, 5, 3, 9, 17, 16, 13, 18, 0, 19, 10, 2]\n",
      "runtime:  1.278543472290039\n",
      "\n",
      "\n",
      "---------------------------------- ID: 6 ----------------------------------\n",
      "ofv 607.6823484604486 dist:  199.71964228959382\n",
      "[1, 16, 8, 14, 13, 3, 10, 18, 2]\n",
      "runtime:  1.7980022430419922\n",
      "ofv 607.6823484604486 dist:  199.71964228959382\n",
      "[1, 16, 8, 14, 13, 3, 10, 18, 2]\n",
      "runtime:  0.4445629119873047\n",
      "\n",
      "\n",
      "---------------------------------- ID: 7 ----------------------------------\n",
      "ofv 441.8693034456217 dist:  199.62365836642772\n",
      "[1, 3, 13, 10, 16, 4, 12, 15, 2]\n",
      "runtime:  5.568124771118164\n",
      "ofv 441.8693034456217 dist:  193.55559984805842\n",
      "[1, 3, 10, 13, 16, 4, 12, 15, 2]\n",
      "runtime:  2.3247737884521484\n",
      "\n",
      "\n",
      "---------------------------------- ID: 8 ----------------------------------\n",
      "ofv 610.6500364073572 dist:  199.02629842203447\n",
      "[1, 0, 11, 9, 6, 3, 14, 17, 4, 7, 2]\n",
      "runtime:  1.0737171173095703\n",
      "ofv 610.6500364073571 dist:  195.29512265084026\n",
      "[1, 0, 9, 6, 11, 3, 14, 17, 4, 7, 2]\n",
      "runtime:  1.0837326049804688\n",
      "\n",
      "\n",
      "---------------------------------- ID: 9 ----------------------------------\n",
      "ofv 620.7834145118376 dist:  198.35622382798064\n",
      "[1, 15, 3, 5, 12, 0, 13, 9, 10, 8, 19, 17, 2]\n",
      "runtime:  0.4575481414794922\n",
      "ofv 620.7834145118376 dist:  198.35622382798064\n",
      "[1, 15, 3, 5, 12, 0, 13, 9, 10, 8, 19, 17, 2]\n",
      "runtime:  0.3753528594970703\n",
      "\n",
      "\n",
      "--------------------------------- ID: 10 ----------------------------------\n",
      "ofv 472.4753547467836 dist:  199.13583176152588\n",
      "[1, 12, 15, 8, 5, 18, 4, 17, 0, 2]\n",
      "runtime:  0.8920059204101562\n",
      "ofv 472.4753547467836 dist:  199.13583176152588\n",
      "[1, 12, 15, 8, 5, 18, 4, 17, 0, 2]\n",
      "runtime:  0.41345977783203125\n",
      "\n",
      "\n",
      "--------------------------------- ID: 11 ----------------------------------\n",
      "ofv 854.8223391809884 dist:  199.68518054311275\n",
      "[1, 10, 9, 11, 13, 15, 18, 17, 14, 0, 7, 8, 6, 5, 2]\n",
      "runtime:  0.3410663604736328\n",
      "ofv 854.8223391809884 dist:  198.6691340900794\n",
      "[1, 10, 9, 11, 15, 13, 18, 17, 14, 0, 7, 8, 6, 5, 2]\n",
      "runtime:  0.2574424743652344\n",
      "\n",
      "\n",
      "--------------------------------- ID: 12 ----------------------------------\n",
      "ofv 701.2885459455387 dist:  199.71589838684437\n",
      "[1, 18, 4, 19, 5, 14, 8, 17, 0, 10, 2]\n",
      "runtime:  0.6335506439208984\n",
      "ofv 701.2884948680819 dist:  199.71589838684437\n",
      "[1, 18, 4, 19, 5, 14, 8, 17, 0, 10, 2]\n",
      "runtime:  0.4321727752685547\n",
      "\n",
      "\n",
      "--------------------------------- ID: 13 ----------------------------------\n",
      "ofv 740.0766749308618 dist:  198.254644515694\n",
      "[1, 7, 3, 4, 0, 9, 14, 15, 17, 8, 5, 2]\n",
      "runtime:  0.363983154296875\n",
      "ofv 740.0766749308618 dist:  198.254644515694\n",
      "[1, 7, 3, 4, 0, 9, 14, 15, 17, 8, 5, 2]\n",
      "runtime:  0.3177070617675781\n",
      "\n",
      "\n",
      "--------------------------------- ID: 14 ----------------------------------\n",
      "ofv 583.2399664606073 dist:  198.98422135361614\n",
      "[1, 16, 11, 9, 4, 8, 17, 14, 15, 2]\n",
      "runtime:  0.6714420318603516\n",
      "ofv 583.2399664606073 dist:  198.98422135361614\n",
      "[1, 16, 11, 9, 4, 8, 17, 14, 15, 2]\n",
      "runtime:  0.35468482971191406\n",
      "\n",
      "\n",
      "--------------------------------- ID: 15 ----------------------------------\n",
      "ofv 655.6721613362203 dist:  198.18948105605747\n",
      "[1, 7, 16, 13, 12, 17, 18, 14, 3, 8, 19, 9, 15, 6, 2]\n",
      "runtime:  3.6534042358398438\n",
      "ofv 655.6721613362204 dist:  198.18948105605747\n",
      "[1, 7, 16, 13, 12, 17, 18, 14, 3, 8, 19, 9, 15, 6, 2]\n",
      "runtime:  0.38390159606933594\n",
      "\n",
      "\n",
      "--------------------------------- ID: 16 ----------------------------------\n",
      "ofv 632.322296480584 dist:  196.9442383527007\n",
      "[1, 9, 6, 3, 0, 15, 7, 8, 16, 5, 2]\n",
      "runtime:  0.26141929626464844\n",
      "ofv 632.322296480584 dist:  196.9442383527007\n",
      "[1, 9, 6, 3, 0, 15, 7, 8, 16, 5, 2]\n",
      "runtime:  0.21056556701660156\n",
      "\n",
      "\n",
      "--------------------------------- ID: 17 ----------------------------------\n",
      "ofv 475.9031679753641 dist:  193.8156106982866\n",
      "[1, 19, 7, 15, 5, 18, 4, 10, 8, 6, 3, 17, 2]\n",
      "runtime:  0.18788719177246094\n",
      "ofv 475.9031679753641 dist:  193.8156106982866\n",
      "[1, 19, 7, 15, 5, 18, 4, 10, 8, 6, 3, 17, 2]\n",
      "runtime:  0.2037487030029297\n",
      "\n",
      "\n",
      "--------------------------------- ID: 18 ----------------------------------\n",
      "ofv 532.4369736628137 dist:  199.1653250192645\n",
      "[1, 11, 3, 4, 14, 19, 7, 10, 16, 6, 2]\n",
      "runtime:  1.4704647064208984\n",
      "ofv 532.4369736628137 dist:  199.1653250192645\n",
      "[1, 11, 3, 4, 14, 19, 7, 10, 16, 6, 2]\n",
      "runtime:  0.6593704223632812\n",
      "\n",
      "\n",
      "--------------------------------- ID: 19 ----------------------------------\n",
      "ofv 678.5729184815516 dist:  199.52343447377245\n",
      "[1, 9, 10, 15, 13, 18, 6, 17, 8, 16, 11, 19, 12, 2]\n",
      "runtime:  6.174785614013672\n",
      "ofv 678.5729116324376 dist:  198.57069969473451\n",
      "[1, 9, 10, 15, 13, 6, 18, 17, 8, 16, 11, 19, 12, 2]\n",
      "runtime:  1.4861202239990234\n",
      "\n",
      "\n",
      "--------------------------------- ID: 20 ----------------------------------\n",
      "ofv 710.0482577226587 dist:  197.40457930946894\n",
      "[1, 5, 14, 6, 15, 0, 13, 12, 18, 19, 10, 3, 2]\n",
      "runtime:  0.6162586212158203\n",
      "ofv 710.0482577226587 dist:  196.44694879851096\n",
      "[1, 5, 3, 10, 19, 18, 12, 13, 0, 15, 6, 14, 2]\n",
      "runtime:  0.2464427947998047\n",
      "\n",
      "\n",
      "--------------------------------- ID: 21 ----------------------------------\n",
      "ofv 630.0175796505547 dist:  199.02767768427844\n",
      "[1, 0, 19, 10, 7, 15, 3, 12, 6, 14, 2]\n",
      "runtime:  17.564231872558594\n",
      "ofv 630.0175796505547 dist:  199.02767768427844\n",
      "[1, 0, 19, 10, 7, 15, 3, 12, 6, 14, 2]\n",
      "runtime:  8.449289321899414\n",
      "\n",
      "\n",
      "--------------------------------- ID: 22 ----------------------------------\n",
      "ofv 730.2796741575379 dist:  195.55928166730442\n",
      "[1, 0, 9, 11, 6, 12, 19, 13, 7, 17, 8, 3, 2]\n",
      "runtime:  0.594329833984375\n",
      "ofv 730.2796741575379 dist:  196.70981703591727\n",
      "[1, 0, 9, 11, 6, 19, 12, 7, 13, 17, 8, 3, 2]\n",
      "runtime:  0.40363311767578125\n",
      "\n",
      "\n",
      "--------------------------------- ID: 23 ----------------------------------\n",
      "ofv 463.16217100387513 dist:  198.250726239373\n",
      "[1, 6, 19, 17, 15, 0, 14, 10, 7, 13, 12, 2]\n",
      "runtime:  0.9491348266601562\n",
      "ofv 463.16217100387513 dist:  198.250726239373\n",
      "[1, 6, 19, 17, 15, 0, 14, 10, 7, 13, 12, 2]\n",
      "runtime:  0.4214954376220703\n",
      "\n",
      "\n",
      "--------------------------------- ID: 24 ----------------------------------\n",
      "ofv 747.7922389715626 dist:  198.80295116561138\n",
      "[1, 10, 8, 0, 12, 14, 6, 11, 18, 17, 15, 2]\n",
      "runtime:  0.3620567321777344\n",
      "ofv 747.7922389715626 dist:  198.80295116561138\n",
      "[1, 10, 8, 0, 12, 14, 6, 11, 18, 17, 15, 2]\n",
      "runtime:  0.25545310974121094\n",
      "\n",
      "\n",
      "--------------------------------- ID: 25 ----------------------------------\n",
      "ofv 607.2127225708207 dist:  193.25679111413308\n",
      "[1, 15, 5, 6, 16, 0, 7, 19, 12, 17, 11, 10, 4, 2]\n",
      "runtime:  0.4681224822998047\n",
      "ofv 607.2127225708207 dist:  193.25679111413308\n",
      "[1, 15, 5, 6, 16, 0, 7, 19, 12, 17, 11, 10, 4, 2]\n",
      "runtime:  0.20110511779785156\n",
      "\n",
      "\n"
     ]
    }
   ],
   "source": [
    "for i in range(100):\n",
    "    nodes = vrpSolver.rndNodes(\n",
    "        N = 20,\n",
    "        distr = 'UniformSquareXY',\n",
    "        xRange = (0, 100),\n",
    "        yRange = (0, 100)\n",
    "    )\n",
    "    for n in nodes:\n",
    "        nodes[n]['price'] = 100 * random.random()\n",
    "        \n",
    "    vrpSolver.saveDictionary(nodes, \"OP_20_ID_%s\" % i)\n",
    "        \n",
    "    OPMTZ = vrpSolver.solveOP(\n",
    "        nodes = nodes,\n",
    "        startID = 1,\n",
    "        endID = 2,\n",
    "        maxBudget = 200,\n",
    "        algo = \"IP\",\n",
    "        solver = \"Gurobi\",\n",
    "        fml = 'MTZ'\n",
    "    )\n",
    "    OPDFJ = vrpSolver.solveOP(\n",
    "        nodes = nodes,\n",
    "        startID = 1,\n",
    "        endID = 2,\n",
    "        maxBudget = 200,\n",
    "        algo = \"IP\",\n",
    "        solver = \"Gurobi\",\n",
    "        fml = 'DFJ_Lazy'\n",
    "    )\n",
    "    \n",
    "    print(vrpSolver.hyphenStr(\"ID: \" + str(i)))\n",
    "    print(\"ofv\", OPMTZ['ofv'], \"dist: \", OPMTZ['dist'])\n",
    "    print(OPMTZ['seq'])\n",
    "    print(\"runtime: \", OPMTZ['runtime'])\n",
    "    \n",
    "    print(\"ofv\", OPDFJ['ofv'], \"dist: \", OPDFJ['dist'])\n",
    "    print(OPDFJ['seq'])\n",
    "    print(\"runtime: \", OPDFJ['runtime'])\n",
    "    print(\"\\n\")"
   ]
  },
  {
   "cell_type": "code",
   "execution_count": 3,
   "id": "6f1a6446",
   "metadata": {},
   "outputs": [],
   "source": [
    "nodes = vrpSolver.loadDictionary(\"OP_20_ID_4\")"
   ]
  },
  {
   "cell_type": "code",
   "execution_count": 3,
   "id": "fd757eaf",
   "metadata": {},
   "outputs": [],
   "source": [
    "OPMTZ = vrpSolver.solveOP(\n",
    "    nodes = nodes,\n",
    "    startID = 1,\n",
    "    endID = 2,\n",
    "    maxBudget = 200,\n",
    "    algo = \"IP\",\n",
    "    solver = \"Gurobi\",\n",
    "    fml = 'MTZ'\n",
    ")"
   ]
  },
  {
   "cell_type": "code",
   "execution_count": 4,
   "id": "60331ec7",
   "metadata": {},
   "outputs": [],
   "source": [
    "OPDFJ = vrpSolver.solveOP(\n",
    "    nodes = nodes,\n",
    "    startID = 1,\n",
    "    endID = 2,\n",
    "    maxBudget = 200,\n",
    "    algo = \"IP\",\n",
    "    solver = \"Gurobi\",\n",
    "    fml = 'DFJ_Lazy'\n",
    ")"
   ]
  },
  {
   "cell_type": "code",
   "execution_count": 5,
   "id": "66fb776c",
   "metadata": {},
   "outputs": [
    {
     "data": {
      "text/plain": [
       "{'ofv': 591.6382223328002,\n",
       " 'dist': 199.21537058856288,\n",
       " 'seq': [1, 18, 6, 17, 16, 3, 14, 9, 2],\n",
       " 'gap': 0,\n",
       " 'solType': 'IP_Optimal',\n",
       " 'lowerBound': 591.6382223328002,\n",
       " 'upperBound': 591.6382223328002,\n",
       " 'runtime': 0.9023914337158203}"
      ]
     },
     "execution_count": 5,
     "metadata": {},
     "output_type": "execute_result"
    }
   ],
   "source": [
    "OPDFJ"
   ]
  },
  {
   "cell_type": "code",
   "execution_count": 6,
   "id": "93c116f1",
   "metadata": {},
   "outputs": [
    {
     "data": {
      "image/png": "[encoded data removed]",
      "text/plain": [
       "<Figure size 500x500 with 1 Axes>"
      ]
     },
     "execution_count": 6,
     "metadata": {},
     "output_type": "execute_result"
    },
    {
     "data": {
      "image/png": "[encoded data removed]",
      "text/plain": [
       "<Figure size 500x500 with 1 Axes>"
      ]
     },
     "metadata": {},
     "output_type": "display_data"
    }
   ],
   "source": [
    "fig, ax = vrpSolver.plotNodes(\n",
    "    nodes = nodes, \n",
    "    boundingBox = (-20, 120, -20, 120)\n",
    ")\n",
    "fig, ax = vrpSolver.plotNodeSeq(\n",
    "    fig = fig,\n",
    "    ax = ax,\n",
    "    nodes = nodes,\n",
    "    nodeSeq = OPDFJ['seq'],\n",
    "    lineColor = 'red')\n",
    "fig"
   ]
  },
  {
   "cell_type": "code",
   "execution_count": null,
   "id": "28a368e2",
   "metadata": {},
   "outputs": [],
   "source": []
  }
 ],
 "metadata": {
  "kernelspec": {
   "display_name": "Python 3 (ipykernel)",
   "language": "python",
   "name": "python3"
  },
  "language_info": {
   "codemirror_mode": {
    "name": "ipython",
    "version": 3
   },
   "file_extension": ".py",
   "mimetype": "text/x-python",
   "name": "python",
   "nbconvert_exporter": "python",
   "pygments_lexer": "ipython3",
   "version": "3.10.11"
  }
 },
 "nbformat": 4,
 "nbformat_minor": 5
}
