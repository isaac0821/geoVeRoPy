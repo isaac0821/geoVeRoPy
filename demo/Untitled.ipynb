{
 "cells": [
  {
   "cell_type": "code",
   "execution_count": 1,
   "id": "52c6730e",
   "metadata": {},
   "outputs": [],
   "source": [
    "import sys\n",
    "sys.path.append(\"D:/Zoo/Gull/geoVeRoPy\")\n",
    "import geoVeRoPy\n",
    "import shapely\n",
    "import matplotlib.pyplot as plt\n",
    "\n",
    "import math\n",
    "import random"
   ]
  },
  {
   "cell_type": "code",
   "execution_count": 2,
   "id": "a747a705",
   "metadata": {},
   "outputs": [],
   "source": [
    "circles = [{'center': (700.4356497066332, 787.2916070102527), 'radius': 150}, {'center': (998.2039430312329, 808.3128728177502), 'radius': 100}, {'center': (365.4132094899062, 303.2111065363734), 'radius': 150}, {'center': (45.579477503723375, 433.04732204546383), 'radius': 100}, {'center': (731.2945946597546, 493.5021439744259), 'radius': 100}, {'center': (897.1059638138969, 504.9049505624474), 'radius': 150}, {'center': (322.9818438312263, 343.28991827056745), 'radius': 50}, {'center': (404.1819799551137, 46.10366429504475), 'radius': 50}, {'center': (666.8882649781584, 746.9848701543276), 'radius': 50}, {'center': (692.629890532452, 388.3042366222248), 'radius': 100}]"
   ]
  },
  {
   "cell_type": "code",
   "execution_count": 3,
   "id": "406096fd",
   "metadata": {},
   "outputs": [
    {
     "name": "stdout",
     "output_type": "stream",
     "text": [
      "Warning: Q constraint 0 doesn't have a name\n",
      "Gurobi Optimizer version 9.5.0 build v9.5.0rc5 (win64)\n",
      "Thread count: 6 physical cores, 12 logical processors, using up to 12 threads\n",
      "Optimize a model with 42 rows, 73 columns and 102 nonzeros\n",
      "Model fingerprint: 0x630314ff\n",
      "Model has 21 quadratic constraints\n",
      "Coefficient statistics:\n",
      "  Matrix range     [1e+00, 1e+00]\n",
      "  QMatrix range    [1e+00, 1e+00]\n",
      "  Objective range  [1e+00, 1e+00]\n",
      "  Bounds range     [5e+00, 1e+03]\n",
      "  RHS range        [5e+01, 1e+03]\n",
      "  QRHS range       [3e+03, 2e+04]\n",
      "Presolve removed 20 rows and 20 columns\n",
      "Presolve time: 0.01s\n",
      "Presolved: 72 rows, 63 columns, 112 nonzeros\n",
      "Presolved model has 21 second-order cone constraints\n",
      "Ordering time: 0.00s\n",
      "\n",
      "Barrier statistics:\n",
      " AA' NZ     : 3.390e+02\n",
      " Factor NZ  : 6.680e+02\n",
      " Factor Ops : 7.460e+03 (less than 1 second per iteration)\n",
      " Threads    : 1\n",
      "\n",
      "                  Objective                Residual\n",
      "Iter       Primal          Dual         Primal    Dual     Compl     Time\n",
      "   0   1.39541514e+04  0.00000000e+00  1.24e+03 1.00e-01  2.09e+02     0s\n",
      "   1   4.98170073e+03 -5.00788119e+02  6.35e+02 1.10e-07  6.44e+01     0s\n",
      "   2   3.33034262e+03  1.31946628e+03  3.99e+02 4.57e-11  2.85e+01     0s\n",
      "   3   3.04295941e+03  3.29373101e+03  3.14e+02 9.37e-12  1.72e+01     0s\n",
      "   4   3.58924605e+03  3.83714162e+03  1.91e+02 4.57e-12  1.27e+01     0s\n",
      "   5   4.43245440e+03  4.34455013e+03  8.60e+01 3.41e-13  9.24e+00     0s\n",
      "   6   4.72537821e+03  4.74141632e+03  1.73e+01 1.03e-13  1.81e+00     0s\n",
      "   7   4.78370500e+03  4.79294882e+03  3.46e+00 5.64e-13  3.16e-01     0s\n",
      "   8   4.79504286e+03  4.79848665e+03  9.06e-01 4.79e-12  7.45e-02     0s\n",
      "   9   4.79811731e+03  4.79905819e+03  2.26e-01 4.08e-11  1.81e-02     0s\n",
      "  10   4.79859050e+03  4.79916180e+03  1.27e-01 1.52e-10  9.81e-03     0s\n",
      "  11   4.79900091e+03  4.79921285e+03  5.01e-02 1.68e-10  4.02e-03     0s\n",
      "  12   4.79919607e+03  4.79928178e+03  1.71e-02 1.89e-09  1.28e-03     0s\n",
      "  13   4.79929229e+03  4.79931334e+03  4.17e-03 1.88e-09  3.12e-04     0s\n",
      "  14   4.79932068e+03  4.79932073e+03  1.43e-04 7.09e-09  1.73e-05     0s\n",
      "  15   4.79932140e+03  4.79932154e+03  4.39e-05 8.94e-08  4.13e-06     0s\n",
      "  16   4.79932172e+03  4.79932175e+03  4.84e-06 1.07e-08  3.48e-07     0s\n",
      "\n",
      "Barrier solved model in 16 iterations and 0.05 seconds (0.00 work units)\n",
      "Optimal objective 4.79932172e+03\n",
      "\n"
     ]
    }
   ],
   "source": [
    "c2c = geoVeRoPy.circle2CirclePath(\n",
    "    startPt = (50, 50),\n",
    "    endPt = (50, 50),\n",
    "    circles = circles,\n",
    "    method = 'SOCP',\n",
    "    solver = 'Gurobi',\n",
    "    outputFlag = True)"
   ]
  },
  {
   "cell_type": "code",
   "execution_count": null,
   "id": "84a8e81c",
   "metadata": {},
   "outputs": [],
   "source": []
  }
 ],
 "metadata": {
  "kernelspec": {
   "display_name": "Python 3 (ipykernel)",
   "language": "python",
   "name": "python3"
  },
  "language_info": {
   "codemirror_mode": {
    "name": "ipython",
    "version": 3
   },
   "file_extension": ".py",
   "mimetype": "text/x-python",
   "name": "python",
   "nbconvert_exporter": "python",
   "pygments_lexer": "ipython3",
   "version": "3.10.11"
  }
 },
 "nbformat": 4,
 "nbformat_minor": 5
}
