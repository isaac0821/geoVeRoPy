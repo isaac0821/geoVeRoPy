{
 "cells": [
  {
   "cell_type": "code",
   "execution_count": 1,
   "id": "70ac9886",
   "metadata": {},
   "outputs": [],
   "source": [
    "import os,sys,inspect\n",
    "currentdir = os.getcwd()\n",
    "parentdir = os.path.dirname(currentdir)\n",
    "sys.path.insert(0,parentdir)\n",
    "import random\n",
    "\n",
    "import vrpSolver\n",
    "# %matplotlib notebook"
   ]
  },
  {
   "cell_type": "code",
   "execution_count": 2,
   "id": "3028370a",
   "metadata": {},
   "outputs": [
    {
     "data": {
      "image/png": "[encoded data removed]",
      "text/plain": [
       "<Figure size 500x500 with 1 Axes>"
      ]
     },
     "metadata": {},
     "output_type": "display_data"
    }
   ],
   "source": [
    "# Generate and plot instance\n",
    "nodes = vrpSolver.rndNodes(\n",
    "    N = 20,\n",
    "    distr = 'UniformSquareXY',\n",
    "    xRange = (0, 100),\n",
    "    yRange = (0, 100)\n",
    ")\n",
    "fig, ax = vrpSolver.plotNodes(\n",
    "    nodes = nodes, \n",
    "    boundingBox = (-20, 120, -20, 120)\n",
    ")"
   ]
  },
  {
   "cell_type": "code",
   "execution_count": 3,
   "id": "bd454eb3",
   "metadata": {},
   "outputs": [],
   "source": [
    "for n in nodes:\n",
    "    nodes[n]['price'] = 100 * random.random()"
   ]
  },
  {
   "cell_type": "code",
   "execution_count": 4,
   "id": "afdf9c62",
   "metadata": {},
   "outputs": [],
   "source": [
    "# DFJ with lazy cut\n",
    "DFJ_Lazy = vrpSolver.solveTSP(\n",
    "    nodes = nodes, \n",
    "    edges = 'Euclidean',\n",
    "    algo = 'IP',\n",
    "    fml = 'DFJ_Lazy',\n",
    "    solver = 'Gurobi',\n",
    "    detailsFlag = False,\n",
    "    outputFlag = False)"
   ]
  },
  {
   "cell_type": "code",
   "execution_count": 5,
   "id": "750e7bcc",
   "metadata": {},
   "outputs": [
    {
     "data": {
      "text/plain": [
       "{'ofv': 398.385419254073,\n",
       " 'seq': [0,\n",
       "  3,\n",
       "  2,\n",
       "  5,\n",
       "  4,\n",
       "  14,\n",
       "  10,\n",
       "  6,\n",
       "  8,\n",
       "  13,\n",
       "  1,\n",
       "  9,\n",
       "  11,\n",
       "  7,\n",
       "  18,\n",
       "  17,\n",
       "  19,\n",
       "  12,\n",
       "  16,\n",
       "  15,\n",
       "  0],\n",
       " 'gap': 0,\n",
       " 'solType': 'IP_Optimal',\n",
       " 'lowerBound': 398.385419254073,\n",
       " 'upperBound': 398.385419254073,\n",
       " 'runtime': 0.014570236206054688}"
      ]
     },
     "execution_count": 5,
     "metadata": {},
     "output_type": "execute_result"
    }
   ],
   "source": [
    "DFJ_Lazy"
   ]
  },
  {
   "cell_type": "code",
   "execution_count": 6,
   "id": "ad9b9e70",
   "metadata": {},
   "outputs": [],
   "source": [
    "tau, _ = vrpSolver.matrixDist(\n",
    "    nodes = nodes,\n",
    "    edges = 'Euclidean')"
   ]
  },
  {
   "cell_type": "code",
   "execution_count": 7,
   "id": "a38f3fd2",
   "metadata": {},
   "outputs": [
    {
     "data": {
      "text/plain": [
       "26.33446784182793"
      ]
     },
     "execution_count": 7,
     "metadata": {},
     "output_type": "execute_result"
    }
   ],
   "source": [
    "tau[4, 2]"
   ]
  },
  {
   "cell_type": "code",
   "execution_count": 8,
   "id": "25259a82",
   "metadata": {},
   "outputs": [
    {
     "name": "stdout",
     "output_type": "stream",
     "text": [
      "Gurobi Optimizer version 9.5.0 build v9.5.0rc5 (win64)\n",
      "Thread count: 6 physical cores, 12 logical processors, using up to 12 threads\n",
      "Optimize a model with 460 rows, 400 columns and 2643 nonzeros\n",
      "Model fingerprint: 0xe7b8e59b\n",
      "Variable types: 20 continuous, 380 integer (380 binary)\n",
      "Coefficient statistics:\n",
      "  Matrix range     [1e+00, 1e+02]\n",
      "  Objective range  [2e-01, 9e+01]\n",
      "  Bounds range     [1e+00, 1e+00]\n",
      "  RHS range        [1e+00, 2e+02]\n",
      "Found heuristic solution: objective 88.5075911\n",
      "Presolve removed 40 rows and 0 columns\n",
      "Presolve time: 0.01s\n",
      "Presolved: 420 rows, 400 columns, 2592 nonzeros\n",
      "Variable types: 20 continuous, 380 integer (380 binary)\n",
      "\n",
      "Root relaxation: objective 8.508113e+02, 210 iterations, 0.00 seconds (0.00 work units)\n",
      "\n",
      "    Nodes    |    Current Node    |     Objective Bounds      |     Work\n",
      " Expl Unexpl |  Obj  Depth IntInf | Incumbent    BestBd   Gap | It/Node Time\n",
      "\n",
      "     0     0  850.81134    0   26   88.50759  850.81134   861%     -    0s\n",
      "H    0     0                     215.2190312  850.81134   295%     -    0s\n",
      "H    0     0                     258.8775168  850.81134   229%     -    0s\n",
      "     0     0  765.46848    0   26  258.87752  765.46848   196%     -    0s\n",
      "H    0     0                     418.7387204  763.88010  82.4%     -    0s\n",
      "     0     0  763.88010    0   28  418.73872  763.88010  82.4%     -    0s\n",
      "     0     0  763.88010    0   28  418.73872  763.88010  82.4%     -    0s\n",
      "     0     0  756.05311    0   27  418.73872  756.05311  80.6%     -    0s\n",
      "     0     0  755.25109    0   28  418.73872  755.25109  80.4%     -    0s\n",
      "     0     0  755.25109    0   28  418.73872  755.25109  80.4%     -    0s\n",
      "     0     0  754.79212    0   31  418.73872  754.79212  80.3%     -    0s\n",
      "     0     0  754.79212    0   31  418.73872  754.79212  80.3%     -    0s\n",
      "     0     0  754.79212    0   33  418.73872  754.79212  80.3%     -    0s\n",
      "H    0     0                     461.8983496  754.79212  63.4%     -    0s\n",
      "     0     0  754.79212    0   30  461.89835  754.79212  63.4%     -    0s\n",
      "     0     2  747.62025    0   30  461.89835  747.62025  61.9%     -    0s\n",
      "H   37    44                     493.8275270  747.62025  51.4%  11.9    0s\n",
      "H  453   328                     529.1724260  727.84405  37.5%   7.1    0s\n",
      "*  639   416              39     563.3490834  722.31829  28.2%   6.9    0s\n",
      "* 1878   830              25     574.0823801  701.80317  22.2%   8.0    0s\n",
      "H 2106   735                     604.8863213  699.35911  15.6%   8.1    0s\n",
      "* 2394   425              11     636.5434957  690.88495  8.54%   8.3    0s\n",
      "* 2891   176              14     643.1080183  672.61455  4.59%   8.4    0s\n",
      "* 2990   176              22     643.1626554  670.49642  4.25%   8.5    0s\n",
      "\n",
      "Cutting planes:\n",
      "  Learned: 5\n",
      "  Gomory: 4\n",
      "  Lift-and-project: 3\n",
      "  Implied bound: 31\n",
      "  MIR: 30\n",
      "  Inf proof: 12\n",
      "  RLT: 27\n",
      "  Relax-and-lift: 14\n",
      "  BQP: 2\n",
      "  PSD: 2\n",
      "\n",
      "Explored 3230 nodes (26911 simplex iterations) in 0.92 seconds (0.47 work units)\n",
      "Thread count was 12 (of 12 available processors)\n",
      "\n",
      "Solution count 10: 643.163 643.108 636.543 ... 418.739\n",
      "\n",
      "Optimal solution found (tolerance 1.00e-04)\n",
      "Best objective 6.431626554277e+02, best bound 6.431626554277e+02, gap 0.0000%\n"
     ]
    }
   ],
   "source": [
    "OP = vrpSolver.solveOP(\n",
    "    nodes = nodes,\n",
    "    startID = 4,\n",
    "    endID = 2,\n",
    "    maxBudget = 200,\n",
    "    algo = \"IP\",\n",
    "    solver = \"Gurobi\",\n",
    "    fml = 'MTZ'\n",
    ")"
   ]
  },
  {
   "cell_type": "code",
   "execution_count": 9,
   "id": "5c1b463b",
   "metadata": {},
   "outputs": [
    {
     "data": {
      "text/plain": [
       "{'ofv': 643.1626554277386,\n",
       " 'dist': 197.95106435866074,\n",
       " 'seq': [4, 14, 6, 8, 10, 19, 17, 12, 15, 0, 3, 2],\n",
       " 'gap': 0,\n",
       " 'solType': 'IP_Optimal',\n",
       " 'lowerBound': 643.1626554277386,\n",
       " 'upperBound': 643.1626554277386,\n",
       " 'runtime': 0.9288501739501953}"
      ]
     },
     "execution_count": 9,
     "metadata": {},
     "output_type": "execute_result"
    }
   ],
   "source": [
    "OP"
   ]
  },
  {
   "cell_type": "code",
   "execution_count": 10,
   "id": "dff48222",
   "metadata": {},
   "outputs": [],
   "source": [
    "fig, ax = vrpSolver.plotNodeSeq(\n",
    "    fig = fig,\n",
    "    ax = ax,\n",
    "    nodes = nodes,\n",
    "    nodeSeq = OP['seq'])"
   ]
  },
  {
   "cell_type": "code",
   "execution_count": 11,
   "id": "d3ede378",
   "metadata": {},
   "outputs": [
    {
     "data": {
      "image/png": "[encoded data removed]",
      "text/plain": [
       "<Figure size 500x500 with 1 Axes>"
      ]
     },
     "execution_count": 11,
     "metadata": {},
     "output_type": "execute_result"
    }
   ],
   "source": [
    "fig"
   ]
  },
  {
   "cell_type": "code",
   "execution_count": 12,
   "id": "48f24ebd",
   "metadata": {},
   "outputs": [
    {
     "name": "stdout",
     "output_type": "stream",
     "text": [
      "Set parameter LazyConstraints to value 1\n",
      "Gurobi Optimizer version 9.5.0 build v9.5.0rc5 (win64)\n",
      "Thread count: 6 physical cores, 12 logical processors, using up to 12 threads\n",
      "Optimize a model with 40 rows, 380 columns and 1463 nonzeros\n",
      "Model fingerprint: 0x294a5799\n",
      "Variable types: 0 continuous, 380 integer (380 binary)\n",
      "Coefficient statistics:\n",
      "  Matrix range     [1e+00, 1e+02]\n",
      "  Objective range  [2e-01, 9e+01]\n",
      "  Bounds range     [1e+00, 1e+00]\n",
      "  RHS range        [1e+00, 2e+02]\n",
      "Found heuristic solution: objective 151.1234135\n",
      "Presolve time: 0.00s\n",
      "Presolved: 40 rows, 380 columns, 1452 nonzeros\n",
      "Variable types: 0 continuous, 380 integer (380 binary)\n",
      "\n",
      "Root relaxation: objective 8.544922e+02, 68 iterations, 0.00 seconds (0.00 work units)\n",
      "\n",
      "    Nodes    |    Current Node    |     Objective Bounds      |     Work\n",
      " Expl Unexpl |  Obj  Depth IntInf | Incumbent    BestBd   Gap | It/Node Time\n",
      "\n",
      "     0     0  854.49225    0    2  151.12341  854.49225   465%     -    0s\n",
      "H    0     0                     410.3403973  854.49225   108%     -    0s\n",
      "     0     0  812.66281    0    6  410.34040  812.66281  98.0%     -    0s\n",
      "     0     0  775.43214    0   28  410.34040  775.43214  89.0%     -    0s\n",
      "     0     0  773.05703    0   27  410.34040  773.05703  88.4%     -    0s\n",
      "     0     0  772.79805    0   28  410.34040  772.79805  88.3%     -    0s\n",
      "     0     0  762.90176    0   30  410.34040  762.90176  85.9%     -    0s\n",
      "     0     0  762.90176    0   30  410.34040  762.90176  85.9%     -    0s\n",
      "H    0     0                     569.5852095  762.90176  33.9%     -    0s\n",
      "     0     2  762.90176    0   30  569.58521  762.90176  33.9%     -    0s\n",
      "H  355   240                     604.8863213  726.00876  20.0%   5.5    0s\n",
      "*  424   276              23     612.1974511  725.27765  18.5%   5.3    0s\n",
      "H  576   305                     630.0207954  710.27104  12.7%   5.3    0s\n",
      "H  623   306                     636.5434957  707.94552  11.2%   5.3    0s\n",
      "*  695   306              13     643.1626554  707.03641  9.93%   5.2    0s\n",
      "\n",
      "Cutting planes:\n",
      "  Cover: 1\n",
      "  MIR: 6\n",
      "  Inf proof: 13\n",
      "  Lazy constraints: 39\n",
      "\n",
      "Explored 1273 nodes (7058 simplex iterations) in 0.41 seconds (0.10 work units)\n",
      "Thread count was 12 (of 12 available processors)\n",
      "\n",
      "Solution count 8: 643.163 636.543 630.021 ... 151.123\n",
      "\n",
      "Optimal solution found (tolerance 1.00e-04)\n",
      "Best objective 6.431626554277e+02, best bound 6.431626554277e+02, gap 0.0000%\n",
      "\n",
      "User-callback calls 2891, time in user-callback 0.02 sec\n",
      "[[0, 3], [3, 2], [4, 14], [6, 8], [8, 10], [10, 19], [12, 15], [14, 6], [15, 0], [17, 12], [19, 17]] 4 2\n"
     ]
    }
   ],
   "source": [
    "OP = vrpSolver.solveOP(\n",
    "    nodes = nodes,\n",
    "    startID = 4,\n",
    "    endID = 2,\n",
    "    maxBudget = 200,\n",
    "    algo = \"IP\",\n",
    "    solver = \"Gurobi\",\n",
    "    fml = 'DFJ_Lazy'\n",
    ")"
   ]
  },
  {
   "cell_type": "code",
   "execution_count": 13,
   "id": "a77a92ae",
   "metadata": {},
   "outputs": [
    {
     "data": {
      "text/plain": [
       "{'ofv': 643.1626554277386,\n",
       " 'dist': 197.95106435866074,\n",
       " 'seq': [4, 14, 6, 8, 10, 19, 17, 12, 15, 0, 3, 2],\n",
       " 'gap': 0,\n",
       " 'solType': 'IP_Optimal',\n",
       " 'lowerBound': 643.1626554277386,\n",
       " 'upperBound': 643.1626554277386,\n",
       " 'runtime': 0.4218616485595703}"
      ]
     },
     "execution_count": 13,
     "metadata": {},
     "output_type": "execute_result"
    }
   ],
   "source": [
    "OP"
   ]
  },
  {
   "cell_type": "code",
   "execution_count": null,
   "id": "75a27d42",
   "metadata": {},
   "outputs": [],
   "source": [
    "fig, ax = vrpSolver.plotNodeSeq(\n",
    "    fig = fig,\n",
    "    ax = ax,\n",
    "    nodes = nodes,\n",
    "    nodeSeq = OP['seq'],\n",
    "    lineColor = 'red')\n",
    "fig"
   ]
  },
  {
   "cell_type": "code",
   "execution_count": null,
   "id": "4a4d2d1e",
   "metadata": {},
   "outputs": [],
   "source": []
  }
 ],
 "metadata": {
  "kernelspec": {
   "display_name": "Python 3 (ipykernel)",
   "language": "python",
   "name": "python3"
  },
  "language_info": {
   "codemirror_mode": {
    "name": "ipython",
    "version": 3
   },
   "file_extension": ".py",
   "mimetype": "text/x-python",
   "name": "python",
   "nbconvert_exporter": "python",
   "pygments_lexer": "ipython3",
   "version": "3.10.11"
  }
 },
 "nbformat": 4,
 "nbformat_minor": 5
}
