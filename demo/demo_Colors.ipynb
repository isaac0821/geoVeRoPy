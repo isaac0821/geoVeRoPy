{
 "cells": [
  {
   "cell_type": "code",
   "execution_count": 1,
   "id": "8b592482",
   "metadata": {},
   "outputs": [],
   "source": [
    "import sys\n",
    "sys.path.append(\"D:/Zoo/Gull/geoVeRoPy\")\n",
    "import geoVeRoPy\n",
    "import matplotlib.pyplot as plt\n",
    "\n",
    "import math\n",
    "import random\n",
    "# %matplotlib notebook"
   ]
  },
  {
   "cell_type": "markdown",
   "id": "cd31125b",
   "metadata": {},
   "source": [
    "## Randomly generate colors"
   ]
  },
  {
   "cell_type": "markdown",
   "id": "bdcb42cb",
   "metadata": {},
   "source": [
    "In this notebook, we demonstrate how to use our package to create random colors and their complement color."
   ]
  },
  {
   "cell_type": "markdown",
   "id": "4dc32e48",
   "metadata": {},
   "source": [
    "First, create a color randomly"
   ]
  },
  {
   "cell_type": "code",
   "execution_count": 2,
   "id": "fbd47730",
   "metadata": {},
   "outputs": [
    {
     "name": "stdout",
     "output_type": "stream",
     "text": [
      "#673ea5\n"
     ]
    }
   ],
   "source": [
    "color = geoVeRoPy.rndColor()\n",
    "print(color)"
   ]
  },
  {
   "cell_type": "markdown",
   "id": "41d24dcf",
   "metadata": {},
   "source": [
    "Then, create the complement color"
   ]
  },
  {
   "cell_type": "code",
   "execution_count": 3,
   "id": "9888a202",
   "metadata": {},
   "outputs": [
    {
     "name": "stdout",
     "output_type": "stream",
     "text": [
      "#7ca53e\n"
     ]
    }
   ],
   "source": [
    "revColor = geoVeRoPy.colorComplement(color)\n",
    "print(revColor)"
   ]
  },
  {
   "cell_type": "markdown",
   "id": "e7fd0899",
   "metadata": {},
   "source": [
    "The following figure shows the color randomly created (left) and its complement color (right)"
   ]
  },
  {
   "cell_type": "code",
   "execution_count": 4,
   "id": "b8fbee68",
   "metadata": {},
   "outputs": [
    {
     "data": {
      "image/png": "[encoded data removed]",
      "text/plain": [
       "<Figure size 1000x500 with 1 Axes>"
      ]
     },
     "metadata": {},
     "output_type": "display_data"
    }
   ],
   "source": [
    "fig, ax = geoVeRoPy.plotPoly(\n",
    "    poly = [[0, 0], [0, 1], [1, 1], [1, 0], [0, 0]],\n",
    "    fillColor = color,\n",
    "    fillStyle = None,\n",
    "    boundingBox = (0, 2, 0, 1),\n",
    "    showAxis = False)\n",
    "fig, ax = geoVeRoPy.plotPoly(\n",
    "    fig = fig,\n",
    "    ax = ax,\n",
    "    fillStyle = None,\n",
    "    poly = [[1, 0], [2, 0], [2, 1], [1, 1]],\n",
    "    fillColor = revColor)"
   ]
  },
  {
   "cell_type": "code",
   "execution_count": null,
   "id": "3bec9718",
   "metadata": {},
   "outputs": [],
   "source": []
  }
 ],
 "metadata": {
  "kernelspec": {
   "display_name": "Python 3 (ipykernel)",
   "language": "python",
   "name": "python3"
  },
  "language_info": {
   "codemirror_mode": {
    "name": "ipython",
    "version": 3
   },
   "file_extension": ".py",
   "mimetype": "text/x-python",
   "name": "python",
   "nbconvert_exporter": "python",
   "pygments_lexer": "ipython3",
   "version": "3.10.11"
  }
 },
 "nbformat": 4,
 "nbformat_minor": 5
}
