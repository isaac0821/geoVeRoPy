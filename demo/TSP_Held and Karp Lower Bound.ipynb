{
 "cells": [
  {
   "cell_type": "code",
   "execution_count": 1,
   "metadata": {},
   "outputs": [],
   "source": [
    "import os,sys,inspect\n",
    "currentdir = os.path.dirname(os.path.abspath(inspect.getfile(inspect.currentframe())))\n",
    "parentdir = os.path.dirname(currentdir)\n",
    "sys.path.insert(0,parentdir)\n",
    "\n",
    "import vrpSolver"
   ]
  },
  {
   "cell_type": "markdown",
   "metadata": {},
   "source": [
    "## Held and Karp Lower Bound for TSP"
   ]
  },
  {
   "cell_type": "markdown",
   "metadata": {},
   "source": [
    "In this notebook, we are going to demonstrate using Held and Karp Algorithm to find the lower bound of TSP"
   ]
  },
  {
   "cell_type": "code",
   "execution_count": 5,
   "metadata": {},
   "outputs": [],
   "source": [
    "nodes = vrpSolver.rndPlainNodes(N = 200)"
   ]
  },
  {
   "cell_type": "code",
   "execution_count": 6,
   "metadata": {},
   "outputs": [
    {
     "data": {
      "text/plain": [
       "{'lowerBound': 1099.9858943781014, 'runtime': 4.444433}"
      ]
     },
     "execution_count": 6,
     "metadata": {},
     "output_type": "execute_result"
    }
   ],
   "source": [
    "vrpSolver.lbTSP(nodes = nodes)"
   ]
  },
  {
   "cell_type": "code",
   "execution_count": 7,
   "metadata": {},
   "outputs": [
    {
     "data": {
      "text/plain": [
       "{'ofv': 1108.2220843501002,\n",
       " 'seq': [0,\n",
       "  180,\n",
       "  45,\n",
       "  60,\n",
       "  147,\n",
       "  64,\n",
       "  196,\n",
       "  159,\n",
       "  143,\n",
       "  128,\n",
       "  127,\n",
       "  141,\n",
       "  133,\n",
       "  83,\n",
       "  69,\n",
       "  97,\n",
       "  68,\n",
       "  119,\n",
       "  158,\n",
       "  8,\n",
       "  98,\n",
       "  49,\n",
       "  123,\n",
       "  72,\n",
       "  42,\n",
       "  19,\n",
       "  65,\n",
       "  73,\n",
       "  61,\n",
       "  104,\n",
       "  111,\n",
       "  120,\n",
       "  43,\n",
       "  40,\n",
       "  2,\n",
       "  90,\n",
       "  80,\n",
       "  179,\n",
       "  20,\n",
       "  174,\n",
       "  126,\n",
       "  14,\n",
       "  37,\n",
       "  16,\n",
       "  177,\n",
       "  87,\n",
       "  34,\n",
       "  178,\n",
       "  146,\n",
       "  151,\n",
       "  106,\n",
       "  79,\n",
       "  129,\n",
       "  185,\n",
       "  46,\n",
       "  50,\n",
       "  85,\n",
       "  67,\n",
       "  21,\n",
       "  10,\n",
       "  109,\n",
       "  100,\n",
       "  62,\n",
       "  187,\n",
       "  26,\n",
       "  162,\n",
       "  107,\n",
       "  173,\n",
       "  164,\n",
       "  71,\n",
       "  12,\n",
       "  101,\n",
       "  136,\n",
       "  131,\n",
       "  154,\n",
       "  193,\n",
       "  78,\n",
       "  15,\n",
       "  166,\n",
       "  77,\n",
       "  191,\n",
       "  157,\n",
       "  152,\n",
       "  31,\n",
       "  198,\n",
       "  58,\n",
       "  184,\n",
       "  105,\n",
       "  117,\n",
       "  171,\n",
       "  163,\n",
       "  176,\n",
       "  66,\n",
       "  134,\n",
       "  27,\n",
       "  30,\n",
       "  135,\n",
       "  13,\n",
       "  39,\n",
       "  125,\n",
       "  89,\n",
       "  116,\n",
       "  138,\n",
       "  63,\n",
       "  102,\n",
       "  144,\n",
       "  28,\n",
       "  192,\n",
       "  41,\n",
       "  195,\n",
       "  38,\n",
       "  74,\n",
       "  6,\n",
       "  115,\n",
       "  140,\n",
       "  189,\n",
       "  124,\n",
       "  114,\n",
       "  52,\n",
       "  149,\n",
       "  170,\n",
       "  139,\n",
       "  84,\n",
       "  75,\n",
       "  169,\n",
       "  93,\n",
       "  35,\n",
       "  5,\n",
       "  172,\n",
       "  148,\n",
       "  1,\n",
       "  153,\n",
       "  142,\n",
       "  168,\n",
       "  88,\n",
       "  55,\n",
       "  23,\n",
       "  29,\n",
       "  7,\n",
       "  11,\n",
       "  25,\n",
       "  32,\n",
       "  44,\n",
       "  190,\n",
       "  76,\n",
       "  24,\n",
       "  48,\n",
       "  57,\n",
       "  4,\n",
       "  167,\n",
       "  108,\n",
       "  99,\n",
       "  150,\n",
       "  113,\n",
       "  17,\n",
       "  188,\n",
       "  132,\n",
       "  121,\n",
       "  51,\n",
       "  3,\n",
       "  70,\n",
       "  155,\n",
       "  96,\n",
       "  194,\n",
       "  56,\n",
       "  130,\n",
       "  182,\n",
       "  186,\n",
       "  110,\n",
       "  18,\n",
       "  54,\n",
       "  59,\n",
       "  47,\n",
       "  181,\n",
       "  137,\n",
       "  81,\n",
       "  94,\n",
       "  175,\n",
       "  95,\n",
       "  92,\n",
       "  33,\n",
       "  9,\n",
       "  161,\n",
       "  118,\n",
       "  199,\n",
       "  86,\n",
       "  145,\n",
       "  103,\n",
       "  53,\n",
       "  112,\n",
       "  91,\n",
       "  165,\n",
       "  156,\n",
       "  82,\n",
       "  36,\n",
       "  197,\n",
       "  122,\n",
       "  183,\n",
       "  22,\n",
       "  160,\n",
       "  0],\n",
       " 'gap': 0,\n",
       " 'lowerBound': 1108.2220843501002,\n",
       " 'upperBound': 1108.2220843501002,\n",
       " 'runtime': 16.19137954711914,\n",
       " 'fml': 'DFJ_Lazy',\n",
       " 'serviceTime': 0}"
      ]
     },
     "execution_count": 7,
     "metadata": {},
     "output_type": "execute_result"
    }
   ],
   "source": [
    "vrpSolver.ipTSP(nodes = nodes)"
   ]
  },
  {
   "cell_type": "code",
   "execution_count": null,
   "metadata": {},
   "outputs": [
    {
     "ename": "KeyboardInterrupt",
     "evalue": "",
     "output_type": "error",
     "traceback": [
      "\u001b[1;31m---------------------------------------------------------------------------\u001b[0m",
      "\u001b[1;31mKeyboardInterrupt\u001b[0m                         Traceback (most recent call last)",
      "\u001b[1;32mcallback.pxi\u001b[0m in \u001b[0;36mgurobipy.CallbackClass.callback\u001b[1;34m()\u001b[0m\n",
      "\u001b[1;32mD:\\Project\\vrpSolver\\vrpSolver\\ipTSP.py\u001b[0m in \u001b[0;36msubtourelim\u001b[1;34m(model, where)\u001b[0m\n\u001b[0;32m    518\u001b[0m         \u001b[0mTSP\u001b[0m\u001b[1;33m.\u001b[0m\u001b[0m_x\u001b[0m \u001b[1;33m=\u001b[0m \u001b[0mx\u001b[0m\u001b[1;33m\u001b[0m\u001b[1;33m\u001b[0m\u001b[0m\n\u001b[0;32m    519\u001b[0m         \u001b[1;32mdef\u001b[0m \u001b[0msubtourelim\u001b[0m\u001b[1;33m(\u001b[0m\u001b[0mmodel\u001b[0m\u001b[1;33m,\u001b[0m \u001b[0mwhere\u001b[0m\u001b[1;33m)\u001b[0m\u001b[1;33m:\u001b[0m\u001b[1;33m\u001b[0m\u001b[1;33m\u001b[0m\u001b[0m\n\u001b[1;32m--> 520\u001b[1;33m             \u001b[1;32mif\u001b[0m \u001b[1;33m(\u001b[0m\u001b[0mwhere\u001b[0m \u001b[1;33m==\u001b[0m \u001b[0mgrb\u001b[0m\u001b[1;33m.\u001b[0m\u001b[0mGRB\u001b[0m\u001b[1;33m.\u001b[0m\u001b[0mCallback\u001b[0m\u001b[1;33m.\u001b[0m\u001b[0mMIPSOL\u001b[0m\u001b[1;33m)\u001b[0m\u001b[1;33m:\u001b[0m\u001b[1;33m\u001b[0m\u001b[1;33m\u001b[0m\u001b[0m\n\u001b[0m\u001b[0;32m    521\u001b[0m                 \u001b[0mx_sol\u001b[0m \u001b[1;33m=\u001b[0m \u001b[0mmodel\u001b[0m\u001b[1;33m.\u001b[0m\u001b[0mcbGetSolution\u001b[0m\u001b[1;33m(\u001b[0m\u001b[0mmodel\u001b[0m\u001b[1;33m.\u001b[0m\u001b[0m_x\u001b[0m\u001b[1;33m)\u001b[0m\u001b[1;33m\u001b[0m\u001b[1;33m\u001b[0m\u001b[0m\n\u001b[0;32m    522\u001b[0m                 \u001b[0marcs\u001b[0m \u001b[1;33m=\u001b[0m \u001b[0mgrb\u001b[0m\u001b[1;33m.\u001b[0m\u001b[0mtuplelist\u001b[0m\u001b[1;33m(\u001b[0m\u001b[1;33m(\u001b[0m\u001b[0mi\u001b[0m\u001b[1;33m,\u001b[0m \u001b[0mj\u001b[0m\u001b[1;33m)\u001b[0m \u001b[1;32mfor\u001b[0m \u001b[0mi\u001b[0m\u001b[1;33m,\u001b[0m \u001b[0mj\u001b[0m \u001b[1;32min\u001b[0m \u001b[0mmodel\u001b[0m\u001b[1;33m.\u001b[0m\u001b[0m_x\u001b[0m\u001b[1;33m.\u001b[0m\u001b[0mkeys\u001b[0m\u001b[1;33m(\u001b[0m\u001b[1;33m)\u001b[0m \u001b[1;32mif\u001b[0m \u001b[0mx_sol\u001b[0m\u001b[1;33m[\u001b[0m\u001b[0mi\u001b[0m\u001b[1;33m,\u001b[0m \u001b[0mj\u001b[0m\u001b[1;33m]\u001b[0m \u001b[1;33m>\u001b[0m \u001b[1;36m0.9\u001b[0m\u001b[1;33m)\u001b[0m\u001b[1;33m\u001b[0m\u001b[1;33m\u001b[0m\u001b[0m\n",
      "\u001b[1;31mKeyboardInterrupt\u001b[0m: "
     ]
    },
    {
     "name": "stderr",
     "output_type": "stream",
     "text": [
      "Exception ignored in: 'gurobipy.callbackstub'\n",
      "Traceback (most recent call last):\n",
      "  File \"callback.pxi\", line 183, in gurobipy.CallbackClass.callback\n",
      "  File \"D:\\Project\\vrpSolver\\vrpSolver\\ipTSP.py\", line 520, in subtourelim\n",
      "    if (where == grb.GRB.Callback.MIPSOL):\n",
      "KeyboardInterrupt\n"
     ]
    }
   ],
   "source": [
    "f = open(\"TSP_HKLowerbound250.csv\", 'a')\n",
    "for i in range(20):\n",
    "    nodes = vrpSolver.rndPlainNodes(N = 250)\n",
    "    lb = vrpSolver.lbTSP(nodes = nodes)\n",
    "    ip = vrpSolver.ipTSP(nodes = nodes)\n",
    "    print(lb['lowerBound'], lb['runtime'], ip['ofv'], ip['runtime'])\n",
    "    f.write(str(lb['lowerBound']) + \",\" +\n",
    "            str(lb['runtime']) + \",\" +\n",
    "            str(ip['ofv']) + \",\" +\n",
    "            str(ip['runtime']) + \"\\n\")"
   ]
  },
  {
   "cell_type": "code",
   "execution_count": 1,
   "metadata": {},
   "outputs": [
    {
     "ename": "NameError",
     "evalue": "name 'f' is not defined",
     "output_type": "error",
     "traceback": [
      "\u001b[1;31m---------------------------------------------------------------------------\u001b[0m",
      "\u001b[1;31mNameError\u001b[0m                                 Traceback (most recent call last)",
      "\u001b[1;32m<ipython-input-1-b5edb7b78a9a>\u001b[0m in \u001b[0;36m<module>\u001b[1;34m\u001b[0m\n\u001b[1;32m----> 1\u001b[1;33m \u001b[0mf\u001b[0m\u001b[1;33m.\u001b[0m\u001b[0mclose\u001b[0m\u001b[1;33m(\u001b[0m\u001b[1;33m)\u001b[0m\u001b[1;33m\u001b[0m\u001b[1;33m\u001b[0m\u001b[0m\n\u001b[0m",
      "\u001b[1;31mNameError\u001b[0m: name 'f' is not defined"
     ]
    }
   ],
   "source": [
    "f.close()"
   ]
  },
  {
   "cell_type": "code",
   "execution_count": null,
   "metadata": {},
   "outputs": [],
   "source": []
  }
 ],
 "metadata": {
  "kernelspec": {
   "display_name": "Python 3",
   "language": "python",
   "name": "python3"
  },
  "language_info": {
   "codemirror_mode": {
    "name": "ipython",
    "version": 3
   },
   "file_extension": ".py",
   "mimetype": "text/x-python",
   "name": "python",
   "nbconvert_exporter": "python",
   "pygments_lexer": "ipython3",
   "version": "3.7.2"
  }
 },
 "nbformat": 4,
 "nbformat_minor": 2
}
