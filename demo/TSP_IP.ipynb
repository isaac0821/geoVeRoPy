{
 "cells": [
  {
   "cell_type": "code",
   "execution_count": 1,
   "metadata": {},
   "outputs": [],
   "source": [
    "import os,sys,inspect\n",
    "currentdir = os.path.dirname(os.path.abspath(inspect.getfile(inspect.currentframe())))\n",
    "parentdir = os.path.dirname(currentdir)\n",
    "sys.path.insert(0,parentdir)\n",
    "\n",
    "import vrpSolver"
   ]
  },
  {
   "cell_type": "code",
   "execution_count": 2,
   "metadata": {},
   "outputs": [
    {
     "data": {
      "image/png": "[encoded data removed]",
      "text/plain": [
       "<Figure size 360x360 with 1 Axes>"
      ]
     },
     "metadata": {
      "needs_background": "light"
     },
     "output_type": "display_data"
    }
   ],
   "source": [
    "# Generate instance\n",
    "nodes = vrpSolver.rndPlainNodes(N = 12)\n",
    "fig, ax = vrpSolver.plotNodes(\n",
    "    nodes = nodes)"
   ]
  },
  {
   "cell_type": "code",
   "execution_count": 3,
   "metadata": {},
   "outputs": [
    {
     "name": "stdout",
     "output_type": "stream",
     "text": [
      "Academic license - for non-commercial use only\n",
      "{'ofv': 300.4941258104151, 'seq': [0, 10, 2, 6, 5, 8, 9, 3, 11, 7, 1, 4, 0], 'gap': 0, 'lowerBound': 300.4941258104151, 'upperBound': 300.4941258104151, 'runtime': 0.0029811859130859375, 'fml': 'DFJ_Lazy'}\n"
     ]
    }
   ],
   "source": [
    "# DFJ with lazy cut\n",
    "DFJ_Lazy = vrpSolver.ipTSP(\n",
    "    nodes = nodes, \n",
    "    fml = \"DFJ_Lazy\",\n",
    "    timeLimit = 300)\n",
    "print(DFJ_Lazy)"
   ]
  },
  {
   "cell_type": "code",
   "execution_count": 4,
   "metadata": {},
   "outputs": [
    {
     "data": {
      "image/png": "[encoded data removed]",
      "text/plain": [
       "<Figure size 360x360 with 1 Axes>"
      ]
     },
     "execution_count": 4,
     "metadata": {},
     "output_type": "execute_result"
    }
   ],
   "source": [
    "# Plot the result of TSP\n",
    "vrpSolver.plotSeq(\n",
    "    fig = fig,\n",
    "    ax = ax,\n",
    "    nodes=nodes, \n",
    "    seq=DFJ_Lazy['seq'])\n",
    "fig"
   ]
  },
  {
   "cell_type": "code",
   "execution_count": 5,
   "metadata": {},
   "outputs": [
    {
     "name": "stdout",
     "output_type": "stream",
     "text": [
      "{'ofv': 300.4941258104151, 'seq': [0, 10, 2, 6, 5, 8, 9, 3, 11, 7, 1, 4, 0], 'gap': 0, 'lowerBound': 300.4941258104151, 'upperBound': 300.4941258104151, 'runtime': 0.0030002593994140625, 'fml': 'DFJ_PlainLoop'}\n"
     ]
    }
   ],
   "source": [
    "# DFJ with plain loop\n",
    "DFJ_PlainLoop = vrpSolver.ipTSP(\n",
    "    nodes = nodes, \n",
    "    fml = \"DFJ_PlainLoop\",\n",
    "    timeLimit = 300)\n",
    "print(DFJ_PlainLoop)"
   ]
  },
  {
   "cell_type": "code",
   "execution_count": 6,
   "metadata": {},
   "outputs": [
    {
     "name": "stdout",
     "output_type": "stream",
     "text": [
      "{'ofv': 300.4941258104151, 'seq': [0, 10, 2, 6, 5, 8, 9, 3, 11, 7, 1, 4, 0], 'gap': 0, 'lowerBound': 300.4941258104151, 'upperBound': 300.4941258104151, 'runtime': 0.04254150390625, 'fml': 'MTZ'}\n"
     ]
    }
   ],
   "source": [
    "# MTZ\n",
    "MTZ = vrpSolver.ipTSP(\n",
    "    nodes = nodes, \n",
    "    fml = \"MTZ\",\n",
    "    timeLimit = 300)\n",
    "print(MTZ)"
   ]
  },
  {
   "cell_type": "code",
   "execution_count": 7,
   "metadata": {},
   "outputs": [
    {
     "name": "stdout",
     "output_type": "stream",
     "text": [
      "{'ofv': 300.494125810415, 'seq': [0, 4, 1, 7, 11, 3, 9, 8, 5, 6, 2, 10, 0], 'gap': 0, 'lowerBound': 300.494125810415, 'upperBound': 300.494125810415, 'runtime': 0.0260009765625, 'fml': 'MultiCommodityFlow'}\n"
     ]
    }
   ],
   "source": [
    "# MultiCommodityFlow\n",
    "MultiCommodityFlow = vrpSolver.ipTSP(\n",
    "    nodes = nodes, \n",
    "    fml = \"MultiCommodityFlow\",\n",
    "    timeLimit = 300)\n",
    "print(MultiCommodityFlow)"
   ]
  },
  {
   "cell_type": "code",
   "execution_count": 8,
   "metadata": {},
   "outputs": [
    {
     "name": "stdout",
     "output_type": "stream",
     "text": [
      "{'ofv': 300.4941258104151, 'seq': [0, 10, 2, 6, 5, 8, 9, 3, 11, 7, 1, 4, 0], 'gap': 0, 'lowerBound': 300.4941258104151, 'upperBound': 300.4941258104151, 'runtime': 0.0615234375, 'fml': 'ShortestPath'}\n"
     ]
    }
   ],
   "source": [
    "# ShortestPath\n",
    "ShortestPath = vrpSolver.ipTSP(\n",
    "    nodes = nodes, \n",
    "    fml = \"ShortestPath\",\n",
    "    timeLimit = 300)\n",
    "print(ShortestPath)"
   ]
  },
  {
   "cell_type": "code",
   "execution_count": 9,
   "metadata": {},
   "outputs": [
    {
     "name": "stdout",
     "output_type": "stream",
     "text": [
      "{'ofv': 300.494125810415, 'seq': [9, 8, 5, 6, 2, 10, 0, 4, 1, 7, 11, 3, 9], 'gap': 0, 'lowerBound': 300.494125810415, 'upperBound': 300.494125810415, 'runtime': 48.42082214355469, 'fml': 'QAP'}\n"
     ]
    }
   ],
   "source": [
    "# QAP\n",
    "QAP = vrpSolver.ipTSP(\n",
    "    nodes = nodes, \n",
    "    fml = \"QAP\",\n",
    "    timeLimit = 300)\n",
    "print(QAP)"
   ]
  },
  {
   "cell_type": "code",
   "execution_count": null,
   "metadata": {},
   "outputs": [],
   "source": []
  }
 ],
 "metadata": {
  "kernelspec": {
   "display_name": "Python 3",
   "language": "python",
   "name": "python3"
  },
  "language_info": {
   "codemirror_mode": {
    "name": "ipython",
    "version": 3
   },
   "file_extension": ".py",
   "mimetype": "text/x-python",
   "name": "python",
   "nbconvert_exporter": "python",
   "pygments_lexer": "ipython3",
   "version": "3.7.2"
  }
 },
 "nbformat": 4,
 "nbformat_minor": 2
}
