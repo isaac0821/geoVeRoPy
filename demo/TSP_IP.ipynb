{
 "cells": [
  {
   "cell_type": "code",
   "execution_count": 1,
   "metadata": {},
   "outputs": [],
   "source": [
    "import os,sys,inspect\n",
    "currentdir = os.path.dirname(os.path.abspath(inspect.getfile(inspect.currentframe())))\n",
    "parentdir = os.path.dirname(currentdir)\n",
    "sys.path.insert(0,parentdir)\n",
    "\n",
    "import vrpSolver"
   ]
  },
  {
   "cell_type": "markdown",
   "metadata": {},
   "source": [
    "## Solving TSP with different IP formulations"
   ]
  },
  {
   "cell_type": "markdown",
   "metadata": {},
   "source": [
    "In this notebook, we are going to demostrate the efficiency of different IP formulations for solving the TSP. Including\n",
    "- DFJ formulation\n",
    "    - Lazy cut (when we find a violation of subtour constraint, add the lazy cut and go on)\n",
    "    - Plain loop (when we find a violation of subtour constraint, restart the IP)\n",
    "- MTZ formulation\n",
    "- Multi-commodity formulation\n",
    "- Shortest path formulation (or time-staged formulation)\n",
    "- Quadratic formulation"
   ]
  },
  {
   "cell_type": "markdown",
   "metadata": {},
   "source": [
    "### 0. Preparation\n",
    "In this section, we will randomly generate TSP instances"
   ]
  },
  {
   "cell_type": "code",
   "execution_count": 2,
   "metadata": {},
   "outputs": [
    {
     "data": {
      "image/png": "[encoded data removed]",
      "text/plain": [
       "<Figure size 360x360 with 1 Axes>"
      ]
     },
     "execution_count": 2,
     "metadata": {},
     "output_type": "execute_result"
    }
   ],
   "source": [
    "# Generate and plot instance\n",
    "nodes = vrpSolver.rndPlainNodes(N = 12)\n",
    "fig, ax = vrpSolver.plotNodes(\n",
    "    nodes = nodes)\n",
    "fig"
   ]
  },
  {
   "cell_type": "markdown",
   "metadata": {},
   "source": [
    "### 1. DFJ formulation"
   ]
  },
  {
   "cell_type": "markdown",
   "metadata": {},
   "source": [
    "Define the decision variable $x_{ij}$ as the following\n",
    "\n",
    "\\begin{equation}\n",
    "    x_{ij} = \\begin{cases}\n",
    "        1, &\\text{if goes from } i \\text{ to } j\\\\ \n",
    "        0, & \\text{otherwise}\n",
    "    \\end{cases}, \\quad (i, j) \\in A\n",
    "\\end{equation}\n",
    "\n",
    "IP formulation:\n",
    "\n",
    "\n",
    "\\begin{align}\n",
    "    \\min \\quad &\\sum_{(i, j)\\in A} c_{ij}x_{ij}\\\\\n",
    "    \\text{s.t.} \\quad & \\sum_{j \\in V, (i,j)\\in A} x_{ij} = 1, \\quad \\forall i \\in V \\label{TSP:con:degree1}\\\\\n",
    "                      & \\sum_{i \\in V, (i,j)\\in A} x_{ij} = 1, \\quad \\forall j \\in V \\label{TSP:con:degree2}\\\\\n",
    "\t\t\t\t      & \\sum_{j\\notin S, i\\in S, (i,j)\\in A} x_{ij} \\ge 1, \\quad \\forall S \\subset V, 2\\le |S| \\le n-1 \\label{TSP:con:DFJSubtour1}\\\\\n",
    "                      & x_{ij} \\in \\{0, 1\\}, \\quad \\forall (i, j) \\in A   \n",
    "\\end{align}\n",
    "\n",
    "\n"
   ]
  },
  {
   "cell_type": "code",
   "execution_count": 3,
   "metadata": {},
   "outputs": [
    {
     "name": "stdout",
     "output_type": "stream",
     "text": [
      "Academic license - for non-commercial use only\n",
      "{'ofv': 343.17592717431637, 'seq': [0, 10, 6, 5, 1, 3, 7, 2, 8, 11, 9, 4, 0], 'gap': 0, 'solType': 'IP_Optimal', 'lowerBound': 343.17592717431637, 'upperBound': 343.17592717431637, 'runtime': 0.14701271057128906, 'fml': 'DFJ_Lazy', 'serviceTime': 0}\n"
     ]
    }
   ],
   "source": [
    "# DFJ with lazy cut\n",
    "DFJ_Lazy = vrpSolver.ipTSP(\n",
    "    nodes = nodes, \n",
    "    fml = \"DFJ_Lazy\",\n",
    "    timeLimit = 300)\n",
    "print(DFJ_Lazy)"
   ]
  },
  {
   "cell_type": "markdown",
   "metadata": {},
   "source": [
    "The following figure shows the result for TSP, since every formulation will yield to the same result, we are not going to repeat this part"
   ]
  },
  {
   "cell_type": "code",
   "execution_count": 4,
   "metadata": {},
   "outputs": [],
   "source": [
    "# Plot the result of TSP\n",
    "fig, ax = vrpSolver.plotSeq(\n",
    "    fig = fig,\n",
    "    ax = ax,\n",
    "    nodes=nodes, \n",
    "    seq=DFJ_Lazy['seq'])"
   ]
  },
  {
   "cell_type": "code",
   "execution_count": 5,
   "metadata": {},
   "outputs": [
    {
     "name": "stdout",
     "output_type": "stream",
     "text": [
      "{'ofv': 343.1759271743163, 'seq': [0, 4, 9, 11, 8, 2, 7, 3, 1, 5, 6, 10, 0], 'gap': 0, 'solType': 'IP_Optimal', 'lowerBound': 343.1759271743163, 'upperBound': 343.1759271743163, 'runtime': 0.0020275115966796875, 'fml': 'DFJ_PlainLoop', 'serviceTime': 0}\n"
     ]
    }
   ],
   "source": [
    "# DFJ with plain loop\n",
    "DFJ_PlainLoop = vrpSolver.ipTSP(\n",
    "    nodes = nodes, \n",
    "    fml = \"DFJ_PlainLoop\",\n",
    "    timeLimit = 300)\n",
    "print(DFJ_PlainLoop)"
   ]
  },
  {
   "cell_type": "markdown",
   "metadata": {},
   "source": [
    "### 2. MTZ formulation"
   ]
  },
  {
   "cell_type": "markdown",
   "metadata": {},
   "source": [
    "Define the decision variable $x_{ij}$ as the following\n",
    "\n",
    "\\begin{equation}\n",
    "    x_{ij} = \\begin{cases}\n",
    "        1, &\\text{if goes from } i \\text{ to } j\\\\ \n",
    "        0, & \\text{otherwise}\n",
    "    \\end{cases}, \\quad (i, j) \\in A\n",
    "\\end{equation}\n",
    "\n",
    "Define $t_i$ as the time of visisting vertex $i$\n",
    "\n",
    "IP formulation:\n",
    "\n",
    "\n",
    "\\begin{align}\n",
    "    \\min \\quad &\\sum_{(i, j)\\in A} c_{ij}x_{ij}\\\\\n",
    "    \\text{s.t.} \\quad & \\sum_{j \\in V, (i,j)\\in A} x_{ij} = 1, \\quad \\forall i \\in V\\\\\n",
    "                      & \\sum_{i \\in V, (i,j)\\in A} x_{ij} = 1, \\quad \\forall j \\in V\\\\\n",
    "\t\t\t\t\t  & t_i + \\tau_{ij} \\le t_j  + M(1 - x_{ij}), \\quad i, j = 2, \\cdots, n \\in V, (i, j) \\in A\\\\\n",
    "                      & x_{ij} \\in \\{0, 1\\}, \\quad \\forall (i, j) \\in A\\\\\n",
    "\t\t\t\t\t  & t_i \\ge 0, \\quad i \\in 1, \\cdots, n \\in V\n",
    "\\end{align}\n"
   ]
  },
  {
   "cell_type": "code",
   "execution_count": 6,
   "metadata": {},
   "outputs": [
    {
     "name": "stdout",
     "output_type": "stream",
     "text": [
      "{'ofv': 343.17592717431637, 'seq': [0, 10, 6, 5, 1, 3, 7, 2, 8, 11, 9, 4, 0], 'gap': 0, 'solType': 'IP_Optimal', 'lowerBound': 343.17592717431637, 'upperBound': 343.17592717431637, 'runtime': 0.06728935241699219, 'fml': 'MTZ', 'serviceTime': 0}\n"
     ]
    }
   ],
   "source": [
    "# MTZ\n",
    "MTZ = vrpSolver.ipTSP(\n",
    "    nodes = nodes, \n",
    "    fml = \"MTZ\",\n",
    "    timeLimit = 300)\n",
    "print(MTZ)"
   ]
  },
  {
   "cell_type": "markdown",
   "metadata": {},
   "source": [
    "### 3. Multi-Commodity flow formulation"
   ]
  },
  {
   "cell_type": "markdown",
   "metadata": {},
   "source": [
    "Define the decision variable $x_{ij}$ as the following\n",
    "\n",
    "\\begin{equation}\n",
    "    x_{ij} = \\begin{cases}\n",
    "        1, &\\text{if goes from } i \\text{ to } j\\\\ \n",
    "        0, & \\text{otherwise}\n",
    "    \\end{cases}, \\quad (i, j) \\in A\n",
    "\\end{equation}\n",
    "\n",
    "Define $y_{ij}^k$ as commodity flow for the $k$th commodity when traveling through edge $(i, j)$\n",
    "\n",
    "IP formulation:\n",
    "\n",
    "\n",
    "\\begin{align}\n",
    "    \\min \\quad &\\sum_{(i, j)\\in A} c_{ij}x_{ij}\\\\\n",
    "    \\text{s.t.} \\quad & \\sum_{j \\in V, (i,j)\\in A} x_{ij} = 1, \\quad \\forall i \\in V\\\\\n",
    "                      & \\sum_{i \\in V, (i,j)\\in A} x_{ij} = 1, \\quad \\forall j \\in V\\\\\n",
    "\t\t\t\t\t  & y_{ij}^k \\le x_{ij}, \\quad \\forall i, j, k \\in N, k \\neq 1\\\\\n",
    "\t\t\t\t\t  & \\sum_{i \\in V} y_{1i}^k = 1, \\quad \\forall k \\in V \\setminus \\{1\\}\\\\\n",
    "\t\t\t\t\t  & \\sum_{i \\in V} y_{i1}^k = 0, \\quad \\forall k \\in V \\setminus \\{1\\}\\\\\n",
    "\t\t\t\t\t  & \\sum_{i \\in V} y_{ik}^k = 1, \\quad \\forall k \\in V \\setminus \\{1\\}\\\\\n",
    "\t\t\t\t\t  & \\sum_{j \\in V} y_{kj}^k = 0, \\quad \\forall k \\in V \\setminus \\{1\\}\\\\\n",
    "\t\t\t\t\t  & \\sum_{i \\in V} y_{ij}^k - \\sum_{i \\in V} y_{ji}^k = 0, \\quad \\forall j, k \\in V \\setminus \\{1\\}, j \\neq k\\\\\n",
    "                      & x_{ij} \\in \\{0, 1\\}, \\quad \\forall (i, j) \\in A\\\\\n",
    "                      & y_{ij}^k \\in \\mathbb{Z}, \\quad \\forall i, j, k \\in N, k \\neq 1\\\\\n",
    "\\end{align}\n"
   ]
  },
  {
   "cell_type": "code",
   "execution_count": 7,
   "metadata": {},
   "outputs": [
    {
     "name": "stdout",
     "output_type": "stream",
     "text": [
      "{'ofv': 343.17592717431637, 'seq': [0, 10, 6, 5, 1, 3, 7, 2, 8, 11, 9, 4, 0], 'gap': 0, 'solType': 'IP_Optimal', 'lowerBound': 343.17592717431637, 'upperBound': 343.17592717431637, 'runtime': 0.025968551635742188, 'fml': 'MultiCommodityFlow', 'serviceTime': 0}\n"
     ]
    }
   ],
   "source": [
    "# MultiCommodityFlow\n",
    "MultiCommodityFlow = vrpSolver.ipTSP(\n",
    "    nodes = nodes, \n",
    "    fml = \"MultiCommodityFlow\",\n",
    "    timeLimit = 300)\n",
    "print(MultiCommodityFlow)"
   ]
  },
  {
   "cell_type": "markdown",
   "metadata": {},
   "source": [
    "### 4. Shortest path formulation (time-staged formulation)"
   ]
  },
  {
   "cell_type": "markdown",
   "metadata": {},
   "source": [
    "Define $x_{ij}^t$ as the following\n",
    "\n",
    "\\begin{equation}\n",
    "    x_{ij}^t = \\begin{cases}\n",
    "                    1, \\quad \\text{If path crosses arc } (i, t) \\text{ and } (j, t + 1) \\\\\n",
    "                    0, \\quad \\text{Otherwise}\n",
    "                \\end{cases}, \\quad i \\in V, j \\in V \\setminus \\{i\\}, t = 1, \\cdots, n\n",
    "\\end{equation}\n",
    "\n",
    "IP formulation:\n",
    "\n",
    "\\begin{align}\n",
    "    \\min \\quad &\\sum_{i \\in V}\\sum_{j \\in V\\setminus \\{i\\}} c_{ij} \\sum_{t = 1}^n x_{ij}^t\\\\\n",
    "    \\text{s.t.} \\quad &\\sum_{j \\in V \\setminus \\{1\\}} x_{1j}^1 = 1\\\\\n",
    "    &\\sum_{j \\in V \\setminus \\{1, i\\}} x_{ij}^2 - x_{1i}^1 = 0, \\quad \\forall i \\in V \\setminus \\{1\\} \\\\\n",
    "    &\\sum_{j \\in V \\setminus \\{1, i\\}} x_{ij}^t - \\sum_{j \\in V \\setminus \\{1, i\\}} x_{ji}^{t - 1} = 0, \\quad \\forall i \\in V \\setminus \\{1\\}, t \\in \\{2, \\dots, n - 1\\}\\\\\n",
    "    &x_{i1}^n - \\sum_{j \\in V \\setminus \\{1, i\\}} x_{ji}^{n - 1} = 0, \\quad \\forall i \\in V \\setminus \\{1\\} \\\\\n",
    "    &\\sum_{i \\in V \\setminus \\{1\\}} x_{i1}^n = 1\\\\\n",
    "    &\\sum_{t = 2}^{n - 1}\\sum_{j \\in V \\setminus \\{1, i\\}} x_{ij}^t + x_{i1}^n \\le 1, \\quad \\forall i \\in V \\setminus \\{1\\}\\\\ \n",
    "    &x_{1i}^1 + \\sum_{t = 2}^{n - 1}\\sum_{j \\in V \\setminus \\{1, i\\}} x_{ji}^t \\le 1, \\quad \\forall i \\in V \\setminus \\{1\\}\\\\\n",
    "\\end{align}"
   ]
  },
  {
   "cell_type": "code",
   "execution_count": 8,
   "metadata": {},
   "outputs": [
    {
     "name": "stdout",
     "output_type": "stream",
     "text": [
      "{'ofv': 343.1759093916842, 'seq': [0, 4, 9, 11, 8, 2, 7, 3, 1, 5, 6, 10, 0], 'gap': 0, 'solType': 'IP_Optimal', 'lowerBound': 343.1759093916842, 'upperBound': 343.1759093916842, 'runtime': 0.047000885009765625, 'fml': 'ShortestPath', 'serviceTime': 0}\n"
     ]
    }
   ],
   "source": [
    "# ShortestPath\n",
    "ShortestPath = vrpSolver.ipTSP(\n",
    "    nodes = nodes, \n",
    "    fml = \"ShortestPath\",\n",
    "    timeLimit = 300)\n",
    "print(ShortestPath)"
   ]
  },
  {
   "cell_type": "markdown",
   "metadata": {},
   "source": [
    "### 5. Quadratic formulation"
   ]
  },
  {
   "cell_type": "markdown",
   "metadata": {},
   "source": [
    "Assuming we have $n$ boxes, which represents $n$ steps in the path. Define $x_{ij}$ as \n",
    "\n",
    "\\begin{equation}\n",
    "    x_{ij} = \\begin{cases}\n",
    "                1, \\quad \\text{Vertex $i$ is assigned to box $j$}\\\\\n",
    "                0, \\quad \\text{Otherwise}\n",
    "            \\end{cases}\n",
    "\\end{equation}\n",
    "\n",
    "IP formulation:\n",
    "\n",
    "\\begin{align}\n",
    "    \\min \\quad & \\sum_{i \\in V} \\sum_{j \\in V \\setminus \\{i\\}} \\sum_{k = 1}^{n - 1} c_{ij} w_{ij}^k + \\sum_{i \\in V} \\sum_{j \\in V \\setminus \\{i\\}} c_{ij}w_{ij}^n\\\\\n",
    "    \\text{s.t.} \\quad & \\sum_{j = 1}^n x_{ij} = 1, \\quad \\forall i \\in V\\\\\n",
    "                      & \\sum_{i \\in V}^n x_{ij} = 1, \\quad j = 1, \\dots, n\\\\\n",
    "                      & w_{ij}^k \\ge x_{ik} + x_{j, k + 1} - 1, \\quad i \\in V,  j \\in V \\setminus \\{i\\}, k = 1, \\cdots, n - 1\\\\\n",
    "                      & w_{ij}^k \\ge x_{ik} + x_{j1} - 1, \\quad i \\in V, j \\in V \\setminus \\{i\\}, k = n \\\\\n",
    "                      & w_{ij}^k \\in \\{0, 1\\}, \\quad i \\in V, j \\in V \\setminus \\{i\\}, k = 1, \\dots, n\\\\\n",
    "                      & x_{ij} \\in \\{0, 1\\}, \\quad i \\in V, j \\in V \\setminus \\{i\\}\n",
    "\\end{align}"
   ]
  },
  {
   "cell_type": "code",
   "execution_count": 9,
   "metadata": {},
   "outputs": [
    {
     "name": "stdout",
     "output_type": "stream",
     "text": [
      "{'ofv': 343.1759271743163, 'seq': [0, 4, 9, 11, 8, 2, 7, 3, 1, 5, 6, 10, 0], 'gap': 0, 'solType': 'IP_Optimal', 'lowerBound': 343.1759271743163, 'upperBound': 343.1759271743163, 'runtime': 113.07650947570801, 'fml': 'QAP', 'serviceTime': 0}\n"
     ]
    }
   ],
   "source": [
    "# QAP\n",
    "QAP = vrpSolver.ipTSP(\n",
    "    nodes = nodes, \n",
    "    fml = \"QAP\",\n",
    "    timeLimit = 300)\n",
    "print(QAP)"
   ]
  },
  {
   "cell_type": "code",
   "execution_count": null,
   "metadata": {},
   "outputs": [],
   "source": []
  }
 ],
 "metadata": {
  "kernelspec": {
   "display_name": "Python 3",
   "language": "python",
   "name": "python3"
  },
  "language_info": {
   "codemirror_mode": {
    "name": "ipython",
    "version": 3
   },
   "file_extension": ".py",
   "mimetype": "text/x-python",
   "name": "python",
   "nbconvert_exporter": "python",
   "pygments_lexer": "ipython3",
   "version": "3.7.2"
  }
 },
 "nbformat": 4,
 "nbformat_minor": 2
}
