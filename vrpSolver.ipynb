{
 "cells": [
  {
   "cell_type": "code",
   "execution_count": 2,
   "metadata": {},
   "outputs": [],
   "source": [
    "import usGeo\n",
    "import vrpSolver"
   ]
  },
  {
   "cell_type": "code",
   "execution_count": 3,
   "metadata": {},
   "outputs": [],
   "source": [
    "dicNodeLoc = usGeo.usZips.validZips"
   ]
  },
  {
   "cell_type": "code",
   "execution_count": 3,
   "metadata": {},
   "outputs": [],
   "source": [
    "customerIDs = [\n",
    "    14228, 33902, 59923, 62966, 95050, \n",
    "    33066, 46039, 54636, 53590, 11377,\n",
    "    11550, 20136, 28803, 34608, 85351,\n",
    "    30101, 85021, 54935, 37918, 14075\n",
    "]"
   ]
  },
  {
   "cell_type": "code",
   "execution_count": 5,
   "metadata": {},
   "outputs": [
    {
     "name": "stdout",
     "output_type": "stream",
     "text": [
      "Academic license - for non-commercial use only\n",
      "Changed value of parameter lazyConstraints to 1\n",
      "   Prev: 0  Min: 0  Max: 1  Default: 0\n",
      "Changed value of parameter TimeLimit to 100.0\n",
      "   Prev: 1e+100  Min: 0.0  Max: 1e+100  Default: 1e+100\n",
      "Optimize a model with 40 rows, 380 columns and 760 nonzeros\n",
      "Variable types: 0 continuous, 380 integer (380 binary)\n",
      "Coefficient statistics:\n",
      "  Matrix range     [1e+00, 1e+00]\n",
      "  Objective range  [1e+01, 3e+03]\n",
      "  Bounds range     [1e+00, 1e+00]\n",
      "  RHS range        [1e+00, 1e+00]\n",
      "Found heuristic solution: objective 22632.552264\n",
      "Presolve time: 0.00s\n",
      "Presolved: 40 rows, 380 columns, 760 nonzeros\n",
      "Variable types: 0 continuous, 380 integer (380 binary)\n",
      "\n",
      "Root relaxation: objective 3.855270e+03, 29 iterations, 0.00 seconds\n",
      "\n",
      "    Nodes    |    Current Node    |     Objective Bounds      |     Work\n",
      " Expl Unexpl |  Obj  Depth IntInf | Incumbent    BestBd   Gap | It/Node Time\n",
      "\n",
      "*    0     0               0    3855.2698863 3855.26989  0.00%     -    0s\n",
      "\n",
      "Explored 0 nodes (29 simplex iterations) in 0.01 seconds\n",
      "Thread count was 12 (of 12 available processors)\n",
      "\n",
      "Solution count 2: 3855.27 22632.6 \n",
      "\n",
      "Optimal solution found (tolerance 1.00e-04)\n",
      "Best objective 3.855269886345e+03, best bound 3.855269886345e+03, gap 0.0000%\n",
      "Changed value of parameter TimeLimit to 99.98703384399414\n",
      "   Prev: 100.0  Min: 0.0  Max: 1e+100  Default: 1e+100\n",
      "Optimize a model with 48 rows, 380 columns and 792 nonzeros\n",
      "Variable types: 0 continuous, 380 integer (380 binary)\n",
      "Coefficient statistics:\n",
      "  Matrix range     [1e+00, 1e+00]\n",
      "  Objective range  [1e+01, 3e+03]\n",
      "  Bounds range     [1e+00, 1e+00]\n",
      "  RHS range        [1e+00, 2e+00]\n",
      "\n",
      "MIP start did not produce a new incumbent solution\n",
      "MIP start violates constraint R40 by 1.000000000\n",
      "\n",
      "Found heuristic solution: objective 22632.552264\n",
      "Presolve time: 0.00s\n",
      "Presolved: 48 rows, 380 columns, 792 nonzeros\n",
      "Variable types: 0 continuous, 380 integer (380 binary)\n",
      "\n",
      "Root relaxation: objective 5.407582e+03, 52 iterations, 0.00 seconds\n",
      "\n",
      "    Nodes    |    Current Node    |     Objective Bounds      |     Work\n",
      " Expl Unexpl |  Obj  Depth IntInf | Incumbent    BestBd   Gap | It/Node Time\n",
      "\n",
      "*    0     0               0    5407.5822259 5407.58223  0.00%     -    0s\n",
      "\n",
      "Explored 0 nodes (52 simplex iterations) in 0.01 seconds\n",
      "Thread count was 12 (of 12 available processors)\n",
      "\n",
      "Solution count 2: 5407.58 22632.6 \n",
      "\n",
      "Optimal solution found (tolerance 1.00e-04)\n",
      "Best objective 5.407582225867e+03, best bound 5.407582225867e+03, gap 0.0000%\n",
      "Changed value of parameter TimeLimit to 99.97007942199707\n",
      "   Prev: 99.98703384399414  Min: 0.0  Max: 1e+100  Default: 1e+100\n",
      "Optimize a model with 55 rows, 380 columns and 838 nonzeros\n",
      "Variable types: 0 continuous, 380 integer (380 binary)\n",
      "Coefficient statistics:\n",
      "  Matrix range     [1e+00, 1e+00]\n",
      "  Objective range  [1e+01, 3e+03]\n",
      "  Bounds range     [1e+00, 1e+00]\n",
      "  RHS range        [1e+00, 4e+00]\n",
      "\n",
      "MIP start did not produce a new incumbent solution\n",
      "MIP start violates constraint R48 by 1.000000000\n",
      "\n",
      "Found heuristic solution: objective 22632.552264\n",
      "Presolve time: 0.00s\n",
      "Presolved: 55 rows, 380 columns, 838 nonzeros\n",
      "Variable types: 0 continuous, 380 integer (380 binary)\n",
      "\n",
      "Root relaxation: objective 6.798887e+03, 58 iterations, 0.00 seconds\n",
      "\n",
      "    Nodes    |    Current Node    |     Objective Bounds      |     Work\n",
      " Expl Unexpl |  Obj  Depth IntInf | Incumbent    BestBd   Gap | It/Node Time\n",
      "\n",
      "     0     0 6798.88685    0   12 22632.5523 6798.88685  70.0%     -    0s\n",
      "H    0     0                    6859.0830849 6798.88685  0.88%     -    0s\n",
      "     0     0     cutoff    0      6859.08308 6859.08308  0.00%     -    0s\n",
      "\n",
      "Cutting planes:\n",
      "  Gomory: 1\n",
      "  Zero half: 2\n",
      "\n",
      "Explored 1 nodes (70 simplex iterations) in 0.02 seconds\n",
      "Thread count was 12 (of 12 available processors)\n",
      "\n",
      "Solution count 2: 6859.08 22632.6 \n",
      "\n",
      "Optimal solution found (tolerance 1.00e-04)\n",
      "Best objective 6.859083084905e+03, best bound 6.859083084905e+03, gap 0.0000%\n",
      "Changed value of parameter TimeLimit to 99.94813919067383\n",
      "   Prev: 99.97007942199707  Min: 0.0  Max: 1e+100  Default: 1e+100\n",
      "Optimize a model with 61 rows, 380 columns and 892 nonzeros\n",
      "Variable types: 0 continuous, 380 integer (380 binary)\n",
      "Coefficient statistics:\n",
      "  Matrix range     [1e+00, 1e+00]\n",
      "  Objective range  [1e+01, 3e+03]\n",
      "  Bounds range     [1e+00, 1e+00]\n",
      "  RHS range        [1e+00, 4e+00]\n",
      "\n",
      "MIP start did not produce a new incumbent solution\n",
      "MIP start violates constraint R55 by 1.000000000\n",
      "\n",
      "Found heuristic solution: objective 22632.552264\n",
      "Presolve time: 0.00s\n",
      "Presolved: 61 rows, 380 columns, 892 nonzeros\n",
      "Variable types: 0 continuous, 380 integer (380 binary)\n",
      "\n",
      "Root relaxation: objective 7.322913e+03, 82 iterations, 0.00 seconds\n",
      "\n",
      "    Nodes    |    Current Node    |     Objective Bounds      |     Work\n",
      " Expl Unexpl |  Obj  Depth IntInf | Incumbent    BestBd   Gap | It/Node Time\n",
      "\n",
      "     0     0 7322.91263    0   14 22632.5523 7322.91263  67.6%     -    0s\n",
      "H    0     0                    13815.667845 7322.91263  47.0%     -    0s\n",
      "H    0     0                    8386.4221062 7322.91263  12.7%     -    0s\n",
      "H    0     0                    8043.7701012 7322.91263  8.96%     -    0s\n",
      "H    0     0                    7623.6738316 7322.91263  3.95%     -    0s\n",
      "*    0     0               0    7341.8368174 7341.83682  0.00%     -    0s\n",
      "\n",
      "Cutting planes:\n",
      "  Gomory: 1\n",
      "  Zero half: 2\n",
      "\n",
      "Explored 1 nodes (93 simplex iterations) in 0.03 seconds\n",
      "Thread count was 12 (of 12 available processors)\n",
      "\n",
      "Solution count 6: 7341.84 7623.67 8043.77 ... 22632.6\n",
      "\n",
      "Optimal solution found (tolerance 1.00e-04)\n",
      "Best objective 7.341836817435e+03, best bound 7.341836817435e+03, gap 0.0000%\n",
      "Changed value of parameter TimeLimit to 99.9182186126709\n",
      "   Prev: 99.94813919067383  Min: 0.0  Max: 1e+100  Default: 1e+100\n",
      "Optimize a model with 64 rows, 380 columns and 1018 nonzeros\n",
      "Variable types: 0 continuous, 380 integer (380 binary)\n",
      "Coefficient statistics:\n",
      "  Matrix range     [1e+00, 1e+00]\n",
      "  Objective range  [1e+01, 3e+03]\n",
      "  Bounds range     [1e+00, 1e+00]\n",
      "  RHS range        [1e+00, 8e+00]\n",
      "\n",
      "MIP start did not produce a new incumbent solution\n",
      "MIP start violates constraint R61 by 1.000000000\n",
      "\n",
      "Found heuristic solution: objective 22632.552264\n",
      "Presolve time: 0.00s\n",
      "Presolved: 64 rows, 380 columns, 1018 nonzeros\n",
      "Variable types: 0 continuous, 380 integer (380 binary)\n",
      "\n",
      "Root relaxation: objective 7.416361e+03, 87 iterations, 0.00 seconds\n",
      "\n",
      "    Nodes    |    Current Node    |     Objective Bounds      |     Work\n",
      " Expl Unexpl |  Obj  Depth IntInf | Incumbent    BestBd   Gap | It/Node Time\n",
      "\n",
      "*    0     0               0    7416.3610647 7416.36106  0.00%     -    0s\n",
      "\n",
      "Explored 0 nodes (87 simplex iterations) in 0.01 seconds\n",
      "Thread count was 12 (of 12 available processors)\n",
      "\n",
      "Solution count 2: 7416.36 22632.6 \n",
      "\n",
      "Optimal solution found (tolerance 1.00e-04)\n",
      "Best objective 7.416361064734e+03, best bound 7.416361064734e+03, gap 0.0000%\n",
      "Changed value of parameter TimeLimit to 99.90126419067383\n",
      "   Prev: 99.9182186126709  Min: 0.0  Max: 1e+100  Default: 1e+100\n",
      "Optimize a model with 66 rows, 380 columns and 1230 nonzeros\n",
      "Variable types: 0 continuous, 380 integer (380 binary)\n",
      "Coefficient statistics:\n",
      "  Matrix range     [1e+00, 1e+00]\n",
      "  Objective range  [1e+01, 3e+03]\n",
      "  Bounds range     [1e+00, 1e+00]\n",
      "  RHS range        [1e+00, 1e+01]\n",
      "\n",
      "MIP start did not produce a new incumbent solution\n",
      "MIP start violates constraint R64 by 1.000000000\n",
      "\n",
      "Found heuristic solution: objective 22632.552264\n",
      "Presolve time: 0.00s\n",
      "Presolved: 66 rows, 380 columns, 1230 nonzeros\n",
      "Variable types: 0 continuous, 380 integer (380 binary)\n",
      "\n",
      "Root relaxation: objective 7.453521e+03, 88 iterations, 0.00 seconds\n",
      "\n",
      "    Nodes    |    Current Node    |     Objective Bounds      |     Work\n",
      " Expl Unexpl |  Obj  Depth IntInf | Incumbent    BestBd   Gap | It/Node Time\n",
      "\n",
      "*    0     0               0    7453.5210713 7453.52107  0.00%     -    0s\n",
      "\n",
      "Explored 0 nodes (88 simplex iterations) in 0.01 seconds\n",
      "Thread count was 12 (of 12 available processors)\n",
      "\n",
      "Solution count 2: 7453.52 22632.6 \n",
      "\n",
      "Optimal solution found (tolerance 1.00e-04)\n",
      "Best objective 7.453521071277e+03, best bound 7.453521071277e+03, gap 0.0000%\n"
     ]
    },
    {
     "data": {
      "text/plain": [
       "{'ofv': 7453.521071276827,\n",
       " 'seq': [1,\n",
       "  7,\n",
       "  18,\n",
       "  9,\n",
       "  8,\n",
       "  3,\n",
       "  5,\n",
       "  15,\n",
       "  17,\n",
       "  4,\n",
       "  19,\n",
       "  13,\n",
       "  16,\n",
       "  14,\n",
       "  2,\n",
       "  6,\n",
       "  12,\n",
       "  11,\n",
       "  10,\n",
       "  20,\n",
       "  1],\n",
       " 'gap': 0,\n",
       " 'lowerBound': 7453.521071276827,\n",
       " 'upperBound': 7453.521071276827,\n",
       " 'runtime': 0.11569023132324219,\n",
       " 'fml': 'DFJ_PlainLoop'}"
      ]
     },
     "execution_count": 5,
     "metadata": {},
     "output_type": "execute_result"
    }
   ],
   "source": [
    "vrpSolver.exact.ipTSP(\n",
    "    nodeLoc = dicNodeLoc,\n",
    "    nodeIDs = customerIDs,\n",
    "    fml = 'DFJ_PlainLoop',\n",
    "    timeLimit = 100\n",
    ")"
   ]
  },
  {
   "cell_type": "code",
   "execution_count": 5,
   "metadata": {},
   "outputs": [
    {
     "name": "stdout",
     "output_type": "stream",
     "text": [
      "Changed value of parameter lazyConstraints to 1\n",
      "   Prev: 0  Min: 0  Max: 1  Default: 0\n",
      "Changed value of parameter TimeLimit to 100.0\n",
      "   Prev: 1e+100  Min: 0.0  Max: 1e+100  Default: 1e+100\n",
      "Optimize a model with 40 rows, 380 columns and 760 nonzeros\n",
      "Variable types: 0 continuous, 380 integer (380 binary)\n",
      "Coefficient statistics:\n",
      "  Matrix range     [1e+00, 1e+00]\n",
      "  Objective range  [1e+01, 3e+03]\n",
      "  Bounds range     [1e+00, 1e+00]\n",
      "  RHS range        [1e+00, 1e+00]\n",
      "Presolve time: 0.00s\n",
      "Presolved: 40 rows, 380 columns, 760 nonzeros\n",
      "Variable types: 0 continuous, 380 integer (380 binary)\n",
      "\n",
      "Root relaxation: objective 5.407582e+03, 49 iterations, 0.00 seconds\n",
      "\n",
      "    Nodes    |    Current Node    |     Objective Bounds      |     Work\n",
      " Expl Unexpl |  Obj  Depth IntInf | Incumbent    BestBd   Gap | It/Node Time\n",
      "\n",
      "     0     0 6798.88685    0   12          - 6798.88685      -     -    0s\n",
      "H    0     0                    12778.548802 6798.88685  46.8%     -    0s\n",
      "H    0     0                    8124.4558709 6798.88685  16.3%     -    0s\n",
      "     0     0 7322.91263    0   14 8124.45587 7322.91263  9.87%     -    0s\n",
      "H    0     0                    7989.9432035 7322.91263  8.35%     -    0s\n",
      "H    0     0                    7485.1764639 7322.91263  2.17%     -    0s\n",
      "*    0     0               0    7453.5210713 7453.52107  0.00%     -    0s\n",
      "\n",
      "Cutting planes:\n",
      "  Gomory: 1\n",
      "  Lazy constraints: 30\n",
      "\n",
      "Explored 1 nodes (110 simplex iterations) in 0.03 seconds\n",
      "Thread count was 12 (of 12 available processors)\n",
      "\n",
      "Solution count 5: 7453.52 7485.18 7989.94 ... 12778.5\n",
      "\n",
      "Optimal solution found (tolerance 1.00e-04)\n",
      "Best objective 7.453521071277e+03, best bound 7.453521071277e+03, gap 0.0000%\n"
     ]
    },
    {
     "data": {
      "text/plain": [
       "{'ofv': 7453.521071276827,\n",
       " 'seq': [1,\n",
       "  7,\n",
       "  18,\n",
       "  9,\n",
       "  8,\n",
       "  3,\n",
       "  5,\n",
       "  15,\n",
       "  17,\n",
       "  4,\n",
       "  19,\n",
       "  13,\n",
       "  16,\n",
       "  14,\n",
       "  2,\n",
       "  6,\n",
       "  12,\n",
       "  11,\n",
       "  10,\n",
       "  20,\n",
       "  1],\n",
       " 'gap': 0,\n",
       " 'lowerBound': 7453.521071276827,\n",
       " 'upperBound': 7453.521071276827,\n",
       " 'runtime': 0.03590583801269531}"
      ]
     },
     "execution_count": 5,
     "metadata": {},
     "output_type": "execute_result"
    }
   ],
   "source": [
    "vrpSolver.exact.ipTSP(\n",
    "    nodeLoc = dicNodeLoc,\n",
    "    nodeIDs = customerIDs,\n",
    "    fml = 'DFJ_Lazy',\n",
    "    timeLimit = 100\n",
    ")"
   ]
  },
  {
   "cell_type": "code",
   "execution_count": 6,
   "metadata": {},
   "outputs": [],
   "source": [
    "reqs = {\n",
    "    1: {'pickupID': 14228, 'deliveryID': 33066}, \n",
    "    2: {'pickupID': 33902, 'deliveryID': 46039}, \n",
    "    3: {'pickupID': 59923, 'deliveryID': 54636}, \n",
    "    4: {'pickupID': 62966, 'deliveryID': 53590},\n",
    "    5: {'pickupID': 95050, 'deliveryID': 11377}\n",
    "#     6: {'pickupID': 11550, 'deliveryID': 30101}\n",
    "#     7: {'pickupID': 20136, 'deliveryID': 85021}\n",
    "}"
   ]
  },
  {
   "cell_type": "code",
   "execution_count": 9,
   "metadata": {},
   "outputs": [
    {
     "data": {
      "text/plain": [
       "1"
      ]
     },
     "execution_count": 9,
     "metadata": {},
     "output_type": "execute_result"
    }
   ],
   "source": [
    "list(reqs.keys())[0]"
   ]
  },
  {
   "cell_type": "code",
   "execution_count": 6,
   "metadata": {},
   "outputs": [],
   "source": [
    "# vrpSolver.exact.ipTSPPDMTZ(\n",
    "#     nodeLoc = dicNodeLoc,\n",
    "#     reqs = reqs,\n",
    "#     vehCap = 3\n",
    "# )"
   ]
  },
  {
   "cell_type": "code",
   "execution_count": 4,
   "metadata": {},
   "outputs": [],
   "source": [
    "arcs = [(0, 1, 3), (0, 2, 4), (1, 3, 2), (0, 3, 5), (2, 4, 8), (4, 5, 9), (1, 4, 7)]"
   ]
  },
  {
   "cell_type": "code",
   "execution_count": 5,
   "metadata": {},
   "outputs": [
    {
     "name": "stdout",
     "output_type": "stream",
     "text": [
      "Academic license - for non-commercial use only\n",
      "Optimize a model with 6 rows, 7 columns and 14 nonzeros\n",
      "Variable types: 0 continuous, 7 integer (7 binary)\n",
      "Coefficient statistics:\n",
      "  Matrix range     [1e+00, 1e+00]\n",
      "  Objective range  [2e+00, 9e+00]\n",
      "  Bounds range     [1e+00, 1e+00]\n",
      "  RHS range        [1e+00, 1e+00]\n",
      "Presolve removed 6 rows and 7 columns\n",
      "Presolve time: 0.00s\n",
      "Presolve: All rows and columns removed\n",
      "\n",
      "Explored 0 nodes (0 simplex iterations) in 0.01 seconds\n",
      "Thread count was 1 (of 12 available processors)\n",
      "\n",
      "Solution count 1: 15 \n",
      "\n",
      "Optimal solution found (tolerance 1.00e-04)\n",
      "Best objective 1.500000000000e+01, best bound 1.500000000000e+01, gap 0.0000%\n"
     ]
    },
    {
     "data": {
      "text/plain": [
       "{'ofv': 15.0, 'matching': [(0, 2, 4), (1, 3, 2), (4, 5, 9)]}"
      ]
     },
     "execution_count": 5,
     "metadata": {},
     "output_type": "execute_result"
    }
   ],
   "source": [
    "res = vrpSolver.graph.matching.graphMatching(arcs, algo='IP')\n",
    "res"
   ]
  },
  {
   "cell_type": "code",
   "execution_count": 8,
   "metadata": {},
   "outputs": [
    {
     "data": {
      "text/plain": [
       "{'mst': [(1, 3, 2), (0, 1, 3), (0, 2, 4), (1, 4, 7), (4, 5, 9)], 'value': 25}"
      ]
     },
     "execution_count": 8,
     "metadata": {},
     "output_type": "execute_result"
    }
   ],
   "source": [
    "vrpSolver.graph.mst.graphMST(arcs)"
   ]
  },
  {
   "cell_type": "code",
   "execution_count": 2,
   "metadata": {},
   "outputs": [],
   "source": [
    "tree = {\n",
    "    0: (1, 2, 3), \n",
    "    1: (4, 5), \n",
    "    2: (6, 7), \n",
    "    6: (8), \n",
    "    3: None, \n",
    "    4: None, \n",
    "    5: None, \n",
    "    7: None, \n",
    "    8: (9), \n",
    "    9: None}"
   ]
  },
  {
   "cell_type": "code",
   "execution_count": 3,
   "metadata": {},
   "outputs": [
    {
     "data": {
      "text/plain": [
       "{'seq': [0, 1, 4, 5, 2, 6, 8, 9, 7, 3]}"
      ]
     },
     "execution_count": 3,
     "metadata": {},
     "output_type": "execute_result"
    }
   ],
   "source": [
    "vrpSolver.graph.search.traversalTree(tree)"
   ]
  },
  {
   "cell_type": "code",
   "execution_count": null,
   "metadata": {},
   "outputs": [],
   "source": []
  }
 ],
 "metadata": {
  "kernelspec": {
   "display_name": "Python 3",
   "language": "python",
   "name": "python3"
  },
  "language_info": {
   "codemirror_mode": {
    "name": "ipython",
    "version": 3
   },
   "file_extension": ".py",
   "mimetype": "text/x-python",
   "name": "python",
   "nbconvert_exporter": "python",
   "pygments_lexer": "ipython3",
   "version": "3.7.2"
  }
 },
 "nbformat": 4,
 "nbformat_minor": 2
}
